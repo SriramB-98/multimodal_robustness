{
 "cells": [
  {
   "cell_type": "code",
   "execution_count": null,
   "id": "90fcf2f8",
   "metadata": {},
   "outputs": [],
   "source": [
    "import torch\n",
    "import clip\n",
    "import os\n",
    "import pandas as pd\n",
    "import random\n",
    "import numpy as np\n",
    "import timm\n",
    "from timm.data import resolve_data_config\n",
    "from timm.data.transforms_factory import create_transform\n",
    "from PIL import Image\n",
    "import matplotlib.pyplot as plt\n",
    "import gzip\n",
    "import matplotlib.image as mpimg\n",
    "from torchvision import models, transforms as T, datasets\n",
    "# from google_images_search import GoogleImagesSearch\n",
    "import PIL\n",
    "import ftfy\n",
    "import pickle\n",
    "import html\n",
    "import json\n",
    "import cv2\n",
    "import regex as re\n",
    "from tqdm.notebook import tqdm\n",
    "# from imagenetv2_pytorch import ImageNetV2Dataset\n",
    "import torchattacks"
   ]
  }
 ],
 "metadata": {
  "kernelspec": {
   "display_name": "Python 3",
   "language": "python",
   "name": "python3"
  },
  "language_info": {
   "codemirror_mode": {
    "name": "ipython",
    "version": 3
   },
   "file_extension": ".py",
   "mimetype": "text/x-python",
   "name": "python",
   "nbconvert_exporter": "python",
   "pygments_lexer": "ipython3",
   "version": "3.6.13"
  }
 },
 "nbformat": 4,
 "nbformat_minor": 5
}
