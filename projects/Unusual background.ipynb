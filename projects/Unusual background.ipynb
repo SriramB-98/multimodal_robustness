{
 "cells": [
  {
   "cell_type": "code",
   "execution_count": 1,
   "id": "2c19f996",
   "metadata": {},
   "outputs": [],
   "source": [
    "import torch\n",
    "import clip\n",
    "import os\n",
    "import random\n",
    "import numpy as np\n",
    "from tqdm import tqdm\n",
    "from PIL import Image\n",
    "from pathlib import Path\n",
    "import matplotlib.pyplot as plt\n",
    "import matplotlib.image as mpimg\n",
    "from nltk.corpus import wordnet as wn\n",
    "from torch.utils.data import random_split, DataLoader\n",
    "from torchvision.datasets import CIFAR100, ImageNet\n",
    "from google_images_search import GoogleImagesSearch\n",
    "import pandas as pd\n",
    "import PIL\n",
    "import cv2\n",
    "import pickle\n",
    "import torchvision\n",
    "from sklearn.metrics import mutual_info_score"
   ]
  },
  {
   "cell_type": "code",
   "execution_count": 2,
   "id": "bb28b57e",
   "metadata": {},
   "outputs": [],
   "source": [
    "import sqlite3\n",
    "\n",
    "\n",
    "class BGVarDB:\n",
    "\n",
    "    ANNOTATIONS_TABLE = \"annotations\"\n",
    "\n",
    "    def __init__(self, path) -> None:\n",
    "        self._connection = sqlite3.connect(path)\n",
    "        self._cursor = self._connection.cursor()\n",
    "\n",
    "        self._cursor.execute(\n",
    "            f\"CREATE TABLE if not exists {BGVarDB.ANNOTATIONS_TABLE} (file_name TEXT PRIMARY KEY, category TEXT, time TEXT, weather TEXT, locations TEXT, humans TEXT)\",\n",
    "        )\n",
    "\n",
    "    def write_entry(self, file_name, category, time, weather, locations, humans):\n",
    "        self._cursor.execute(\n",
    "            f\"REPLACE INTO {BGVarDB.ANNOTATIONS_TABLE} VALUES (?, ?, ?, ?, ?, ?)\",\n",
    "            (file_name, category, time, weather, \", \".join((sorted(locations))), humans),\n",
    "        )\n",
    "        self._connection.commit()\n",
    "\n",
    "    def read_entries(self, categories=None, times=None, weathers=None, locations=None, humans=None):\n",
    "\n",
    "        query = f\"SELECT file_name, category, time, weather, locations FROM {BGVarDB.ANNOTATIONS_TABLE} WHERE \"\n",
    "        conditions = []\n",
    "        if categories is not None:\n",
    "            conditions.append(f\"category IN {BGVarDB.stringify(categories)}\")\n",
    "        if times is not None:\n",
    "            conditions.append(f\"time IN {BGVarDB.stringify(times)}\")\n",
    "        if weathers is not None:\n",
    "            conditions.append(f\"weather IN {BGVarDB.stringify(weathers)}\")\n",
    "        if locations is not None:\n",
    "            conditions.append(f\"locations LIKE '%{', '.join((sorted(locations)))}%'\")\n",
    "        if humans is None:\n",
    "            conditions.append(f\"humans = 'no'\")\n",
    "\n",
    "        query += \" AND \".join(conditions)\n",
    "        results = self._cursor.execute(query)\n",
    "        yield from results\n",
    "\n",
    "    def __del__(self) -> None:\n",
    "        self._connection.commit()\n",
    "        self._connection.close()\n",
    "\n",
    "    def populate_temp_table(self):\n",
    "        # TODO: delete this later\n",
    "        self.write_entry(\"cat/1.jpg\", \"cat\", \"day\", \"sunny\", [\"forest\", \"grass\"])\n",
    "        self.write_entry(\"cat/89.jpg\", \"cat\", \"day\", \"foggy\", [\"forest\"])\n",
    "        self.write_entry(\"dog/91.jpg\", \"dog\", \"day\", \"sunny\", [\"indoors\"])\n",
    "        self.write_entry(\"horse/19.jpg\", \"horse\", \"night\", \"none\", [\"grass\", \"water\"])\n",
    "        self.write_entry(\"car/23.jpg\", \"car\", \"day\", \"cloudy\", [\"snow\", \"street\"])\n",
    "        self.write_entry(\"plane/76.jpg\", \"plane\", \"day\", \"raining\", [\"street\"])\n",
    "\n",
    "    def check_if_table_exists(self, table_name):\n",
    "        self._cursor.execute(\n",
    "            f\"SELECT name FROM sqlite_master WHERE type='table' AND name='{table_name}'\"\n",
    "        )\n",
    "\n",
    "        return self._cursor.fetchone()[0] != 0\n",
    "\n",
    "    def clear_annotations(self):\n",
    "        self._cursor.execute(f\"DROP TABLE {BGVarDB.ANNOTATIONS_TABLE}\")\n",
    "\n",
    "    @staticmethod\n",
    "    def stringify(values):\n",
    "        if len(values) == 1:\n",
    "            return f\"('{values[0]}')\"\n",
    "        else:\n",
    "            return str(tuple(values))\n",
    "\n",
    "\n",
    "        \n",
    "class BGVarDataset(torch.utils.data.Dataset):\n",
    "    \n",
    "    categories = {\n",
    "        \"truck\": 0,\n",
    "        \"car\": 1,\n",
    "        \"plane\": 2,\n",
    "        \"ship\": 3,\n",
    "        \"cat\": 4,\n",
    "        \"dog\": 5,\n",
    "        \"horse\": 6,\n",
    "        \"deer\": 7,\n",
    "        \"frog\": 8,\n",
    "        \"bird\": 9,\n",
    "    }\n",
    "\n",
    "    times = {\n",
    "        \"day\": 0,\n",
    "        \"night\": 1,\n",
    "        \"none\": 2,\n",
    "    }\n",
    "\n",
    "    weathers = {\n",
    "        \"cloudy\": 0,\n",
    "        \"foggy\": 1,\n",
    "        \"partly cloudy\": 2,\n",
    "        \"raining\": 3,\n",
    "        \"snowing\": 4,\n",
    "        \"sunny\": 5,\n",
    "        \"none\": 6,\n",
    "    }\n",
    "\n",
    "    locations = {\n",
    "        \"forest\": 0,\n",
    "        \"grass\": 1,\n",
    "        \"indoors\": 2,\n",
    "        \"rocks\": 3,\n",
    "        \"sand\": 4,\n",
    "        \"street\": 5,\n",
    "        \"snow\": 6,\n",
    "        \"water\": 7,\n",
    "        \"none\": 8,\n",
    "    }\n",
    "\n",
    "    def __init__(\n",
    "        self,\n",
    "        root,\n",
    "        database=None,\n",
    "        categories=None,\n",
    "        times=None,\n",
    "        weathers=None,\n",
    "        locations=None,\n",
    "        humans=\"yes\",  # TODO: change this later\n",
    "        transform=None,\n",
    "        target_transform=None,\n",
    "    ) -> None:\n",
    "        self.root = Path(root)\n",
    "        self.transform = transform\n",
    "        self.target_transform = target_transform\n",
    "        if database is None:\n",
    "            database = BGVarDB(self.root / \"annotations.db\")\n",
    "\n",
    "        self.image_files = list(\n",
    "            database.read_entries(\n",
    "                categories=categories,\n",
    "                times=times,\n",
    "                weathers=weathers,\n",
    "                locations=locations,\n",
    "                humans=humans,\n",
    "            )\n",
    "        )\n",
    "\n",
    "    def __getitem__(self, idx):\n",
    "        image_path = self.root / (self.image_files[idx][0][1:])\n",
    "        image = Image.open(image_path)\n",
    "        if image.mode != \"RGB\":\n",
    "            image = image.convert(\"RGB\")\n",
    "\n",
    "        category = BGVarDataset.categories[self.image_files[idx][1]]\n",
    "        try:\n",
    "            if self.transform:\n",
    "                image = self.transform(image)\n",
    "        except:\n",
    "            return self.__getitem__(idx-1)\n",
    "        if self.target_transform:\n",
    "            category = self.target_transform(category)\n",
    "        time = BGVarDataset.times[self.image_files[idx][2]]\n",
    "        weather = BGVarDataset.weathers[self.image_files[idx][3]]\n",
    "        locations = torch.zeros(len(BGVarDataset.locations), dtype=torch.long)\n",
    "        for location in (self.image_files[idx][4]).split(\", \"):\n",
    "            locations[BGVarDataset.locations[location]] = 1\n",
    "        \n",
    "        return image, category, time, weather, locations\n",
    "\n",
    "    def __len__(self) -> int:\n",
    "        return len(self.image_files)"
   ]
  },
  {
   "cell_type": "code",
   "execution_count": 3,
   "id": "8e0487fa",
   "metadata": {},
   "outputs": [],
   "source": [
    "device = torch.device(\"cuda\" if torch.cuda.is_available() else \"cpu\")\n",
    "clip_model, preprocess = clip.load('ViT-B/32', device)"
   ]
  },
  {
   "cell_type": "code",
   "execution_count": 25,
   "id": "bb4417df",
   "metadata": {},
   "outputs": [
    {
     "data": {
      "text/plain": [
       "'1 rferf 2'"
      ]
     },
     "execution_count": 25,
     "metadata": {},
     "output_type": "execute_result"
    }
   ],
   "source": [
    "\"{} rferf {}\".format(\"1\", \"2\")"
   ]
  },
  {
   "cell_type": "code",
   "execution_count": 4,
   "id": "9207674f",
   "metadata": {},
   "outputs": [],
   "source": [
    "class VisualModel(torch.nn.Module):\n",
    "    def __init__(self, normal_text_probes, clip_model, device, *all_context_text_probes):\n",
    "        super(VisualModel, self).__init__()\n",
    "        self.device = device\n",
    "        self.model = clip_model\n",
    "        self.all_text_context_format = \"a photo of a  in the {} at {}\"\n",
    "        def text_encode(text_probes):\n",
    "            texts = clip.tokenize(text_probes).to(device) #tokenize\n",
    "            class_embeddings = self.model.encode_text(texts) #embed with text encoder\n",
    "            class_embeddings /= class_embeddings.norm(dim=-1, keepdim=True)\n",
    "            return class_embeddings\n",
    "        \n",
    "        self.text_probes = text_encode(normal_text_probes)\n",
    "        self.text_probes_with_context = [torch.stack([text_encode(tp) for tp in context_tp])\\\n",
    "                                         for context_tp in all_context_text_probes]\n",
    "        \n",
    "    def forward(self, images, which=None, context=None):\n",
    "        image_features = self.model.encode_image(images)\n",
    "        image_features /= image_features.norm(dim=-1, keepdim=True)\n",
    "        if which is None:\n",
    "            text_features = self.text_probes\n",
    "            logits = image_features @ text_features.transpose(0,1)\n",
    "        elif which == 4:\n",
    "            \"a photo of a \"\n",
    "        else:    \n",
    "            all_text_features = self.text_probes_with_context[which][context]\n",
    "            logits = torch.matmul(image_features.unsqueeze(1), all_text_features.transpose(1,2))\n",
    "        print(logits.shape)\n",
    "#         print(image_features.shape, text_features.shape)\n",
    "        return logits.squeeze(1)"
   ]
  },
  {
   "cell_type": "code",
   "execution_count": 5,
   "id": "20d5041a",
   "metadata": {},
   "outputs": [],
   "source": [
    "dataset = BGVarDataset(\n",
    "        Path(\"/cmlscratch/pkattaki/datasets/bg-var\"),\n",
    "        categories=BGVarDataset.categories,\n",
    "        times=None,\n",
    "        weathers=None,\n",
    "        locations=None,\n",
    "        transform=preprocess,\n",
    "    )"
   ]
  },
  {
   "cell_type": "code",
   "execution_count": 6,
   "id": "e6cf5a4b",
   "metadata": {},
   "outputs": [],
   "source": [
    "dataloader = DataLoader(dataset, batch_size=256, shuffle=False, num_workers=0)"
   ]
  },
  {
   "cell_type": "code",
   "execution_count": 7,
   "id": "505b475e",
   "metadata": {
    "scrolled": false
   },
   "outputs": [],
   "source": [
    "classes = list(BGVarDataset.categories.keys())\n",
    "text_probes = [\"a photo of a \"+c for c in classes]\n",
    "loc_text_probes = [[\"a photo of a \"+c+\" in the \"+loc for c in classes] for loc in dataset.locations.keys() if loc is not None]\n",
    "weather_text_probes = [[\"a photo of a \"+c+\" when it is \"+w for c in classes] for w in dataset.weathers.keys() if w is not None]\n",
    "time_text_probes = [[\"a photo of a \"+c+\" in the \"+t for c in classes] for t in dataset.times.keys() if t is not None]\n",
    "model = VisualModel(text_probes, clip_model, device, loc_text_probes, weather_text_probes, time_text_probes).to(device)"
   ]
  },
  {
   "cell_type": "code",
   "execution_count": 8,
   "id": "2dfef5dd",
   "metadata": {},
   "outputs": [],
   "source": [
    "torch.cuda.empty_cache()"
   ]
  },
  {
   "cell_type": "code",
   "execution_count": 9,
   "id": "18c29657",
   "metadata": {},
   "outputs": [
    {
     "name": "stdout",
     "output_type": "stream",
     "text": [
      "Mon Nov 22 18:04:53 2021       \r\n",
      "+-----------------------------------------------------------------------------+\r\n",
      "| NVIDIA-SMI 470.57.02    Driver Version: 470.57.02    CUDA Version: 11.4     |\r\n",
      "|-------------------------------+----------------------+----------------------+\r\n",
      "| GPU  Name        Persistence-M| Bus-Id        Disp.A | Volatile Uncorr. ECC |\r\n",
      "| Fan  Temp  Perf  Pwr:Usage/Cap|         Memory-Usage | GPU-Util  Compute M. |\r\n",
      "|                               |                      |               MIG M. |\r\n",
      "|===============================+======================+======================|\r\n",
      "|   0  NVIDIA GeForce ...  Off  | 00000000:1B:00.0 Off |                  N/A |\r\n",
      "| 32%   36C    P2    65W / 250W |   6622MiB / 11019MiB |     11%      Default |\r\n",
      "|                               |                      |                  N/A |\r\n",
      "+-------------------------------+----------------------+----------------------+\r\n",
      "                                                                               \r\n",
      "+-----------------------------------------------------------------------------+\r\n",
      "| Processes:                                                                  |\r\n",
      "|  GPU   GI   CI        PID   Type   Process name                  GPU Memory |\r\n",
      "|        ID   ID                                                   Usage      |\r\n",
      "|=============================================================================|\r\n",
      "|    0   N/A  N/A     96673      C   ...8w04/anaconda3/bin/python     6619MiB |\r\n",
      "+-----------------------------------------------------------------------------+\r\n"
     ]
    }
   ],
   "source": [
    "!nvidia-smi"
   ]
  },
  {
   "cell_type": "code",
   "execution_count": 10,
   "id": "821002f0",
   "metadata": {},
   "outputs": [],
   "source": [
    "uncommon = {\n",
    "    0: {  # truck\n",
    "        \"time\": {1},\n",
    "        \"weather\": {1, 3, 4},\n",
    "        \"locations\": {2, 3, 6, 7},\n",
    "    },\n",
    "    1: {  # car\n",
    "        \"time\": {1},\n",
    "        \"weather\": {1, 3, 4},\n",
    "        \"locations\": {2, 3, 6, 7},\n",
    "    },\n",
    "    2: {  # plane\n",
    "        \"time\": {1},\n",
    "        \"weather\": {1, 3, 4},\n",
    "        \"locations\": {0, 2, 3, 4, 6, 7},\n",
    "    },\n",
    "    3: {  # ship\n",
    "        \"time\": {1},\n",
    "        \"weather\": {1, 3, 4},\n",
    "        \"locations\": {0, 1, 2, 3, 4, 5, 6},\n",
    "    },\n",
    "    4: {  # cat\n",
    "        \"time\": {1},\n",
    "        \"weather\": {1, 3, 4},\n",
    "        \"locations\": {0, 3, 4, 6, 7},\n",
    "    },\n",
    "    5: {  # dog\n",
    "        \"time\": {1},\n",
    "        \"weather\": {1, 3, 4},\n",
    "        \"locations\": {0, 3, 6},\n",
    "    },\n",
    "    6: {  # horse\n",
    "        \"time\": {1},\n",
    "        \"weather\": {1, 3, 4},\n",
    "        \"locations\": {2, 3, 5, 6, 7},\n",
    "    },\n",
    "    7: {  # deer\n",
    "        \"time\": {1},\n",
    "        \"weather\": {1, 3, 4},\n",
    "        \"locations\": {2, 3, 4, 5, 6, 7},\n",
    "    },\n",
    "    8: {  # frog\n",
    "        \"time\": {},\n",
    "        \"weather\": {1, 3, 4},\n",
    "        \"locations\": {2, 5, 6},\n",
    "    },\n",
    "    9: {  # bird\n",
    "        \"time\": {1},\n",
    "        \"weather\": {1, 3, 4},\n",
    "        \"locations\": {2, 5, 6},\n",
    "    },\n",
    "}\n",
    "\n",
    "uncommon_time_mask = np.zeros((10, 2))\n",
    "uncommon_weather_mask = np.zeros((10, 6))\n",
    "uncommon_locations_mask = np.zeros((10, 8))\n",
    "\n",
    "for i in range(10):\n",
    "    uncommon_time_mask[i, list(uncommon[i]['time'])] = 1\n",
    "    uncommon_weather_mask[i, list(uncommon[i]['weather'])] = 1\n",
    "    uncommon_locations_mask[i, list(uncommon[i]['locations'])] = 1\n"
   ]
  },
  {
   "cell_type": "code",
   "execution_count": 31,
   "id": "8304b19d",
   "metadata": {},
   "outputs": [
    {
     "name": "stderr",
     "output_type": "stream",
     "text": [
      "\r",
      "  0%|          | 0/94 [00:00<?, ?it/s]"
     ]
    },
    {
     "name": "stdout",
     "output_type": "stream",
     "text": [
      "torch.Size([256, 1, 10])\n",
      "torch.Size([256, 1, 10])\n"
     ]
    },
    {
     "name": "stderr",
     "output_type": "stream",
     "text": [
      "\r",
      "  1%|          | 1/94 [00:17<27:43, 17.89s/it]"
     ]
    },
    {
     "name": "stdout",
     "output_type": "stream",
     "text": [
      "torch.Size([256, 1, 10])\n",
      "torch.Size([256, 1, 10])\n",
      "torch.Size([256, 1, 10])\n"
     ]
    },
    {
     "name": "stderr",
     "output_type": "stream",
     "text": [
      "\r",
      "  2%|▏         | 2/94 [00:36<28:13, 18.40s/it]"
     ]
    },
    {
     "name": "stdout",
     "output_type": "stream",
     "text": [
      "torch.Size([256, 1, 10])\n",
      "torch.Size([256, 1, 10])\n",
      "torch.Size([256, 1, 10])\n"
     ]
    },
    {
     "name": "stderr",
     "output_type": "stream",
     "text": [
      "\r",
      "  3%|▎         | 3/94 [00:57<29:24, 19.39s/it]"
     ]
    },
    {
     "name": "stdout",
     "output_type": "stream",
     "text": [
      "torch.Size([256, 1, 10])\n",
      "torch.Size([256, 1, 10])\n",
      "torch.Size([256, 1, 10])\n"
     ]
    },
    {
     "name": "stderr",
     "output_type": "stream",
     "text": [
      "\r",
      "  4%|▍         | 4/94 [01:20<31:19, 20.88s/it]"
     ]
    },
    {
     "name": "stdout",
     "output_type": "stream",
     "text": [
      "torch.Size([256, 1, 10])\n",
      "torch.Size([256, 1, 10])\n",
      "torch.Size([256, 1, 10])\n"
     ]
    },
    {
     "name": "stderr",
     "output_type": "stream",
     "text": [
      "\r",
      "  5%|▌         | 5/94 [01:40<30:28, 20.54s/it]"
     ]
    },
    {
     "name": "stdout",
     "output_type": "stream",
     "text": [
      "torch.Size([256, 1, 10])\n",
      "torch.Size([256, 1, 10])\n",
      "torch.Size([256, 1, 10])\n"
     ]
    },
    {
     "name": "stderr",
     "output_type": "stream",
     "text": [
      "\r",
      "  6%|▋         | 6/94 [02:02<31:08, 21.24s/it]"
     ]
    },
    {
     "name": "stdout",
     "output_type": "stream",
     "text": [
      "torch.Size([256, 1, 10])\n",
      "torch.Size([256, 1, 10])\n",
      "torch.Size([256, 1, 10])\n"
     ]
    },
    {
     "name": "stderr",
     "output_type": "stream",
     "text": [
      "\r",
      "  7%|▋         | 7/94 [02:31<34:23, 23.72s/it]"
     ]
    },
    {
     "name": "stdout",
     "output_type": "stream",
     "text": [
      "torch.Size([256, 1, 10])\n",
      "torch.Size([256, 1, 10])\n",
      "torch.Size([256, 1, 10])\n"
     ]
    },
    {
     "name": "stderr",
     "output_type": "stream",
     "text": [
      "\r",
      "  9%|▊         | 8/94 [02:48<30:57, 21.60s/it]"
     ]
    },
    {
     "name": "stdout",
     "output_type": "stream",
     "text": [
      "torch.Size([256, 1, 10])\n",
      "torch.Size([256, 1, 10])\n",
      "torch.Size([256, 1, 10])\n"
     ]
    },
    {
     "name": "stderr",
     "output_type": "stream",
     "text": [
      "\r",
      " 10%|▉         | 9/94 [03:11<31:10, 22.01s/it]"
     ]
    },
    {
     "name": "stdout",
     "output_type": "stream",
     "text": [
      "torch.Size([256, 1, 10])\n",
      "torch.Size([256, 1, 10])\n",
      "torch.Size([256, 1, 10])\n"
     ]
    },
    {
     "name": "stderr",
     "output_type": "stream",
     "text": [
      "\r",
      " 11%|█         | 10/94 [03:35<31:31, 22.52s/it]"
     ]
    },
    {
     "name": "stdout",
     "output_type": "stream",
     "text": [
      "torch.Size([256, 1, 10])\n",
      "torch.Size([256, 1, 10])\n",
      "torch.Size([256, 1, 10])\n"
     ]
    },
    {
     "name": "stderr",
     "output_type": "stream",
     "text": [
      "\r",
      " 12%|█▏        | 11/94 [03:58<31:24, 22.71s/it]"
     ]
    },
    {
     "name": "stdout",
     "output_type": "stream",
     "text": [
      "torch.Size([256, 1, 10])\n",
      "torch.Size([256, 1, 10])\n",
      "torch.Size([256, 1, 10])\n"
     ]
    },
    {
     "name": "stderr",
     "output_type": "stream",
     "text": [
      "\r",
      " 13%|█▎        | 12/94 [04:23<32:02, 23.45s/it]"
     ]
    },
    {
     "name": "stdout",
     "output_type": "stream",
     "text": [
      "torch.Size([256, 1, 10])\n",
      "torch.Size([256, 1, 10])\n",
      "torch.Size([256, 1, 10])\n"
     ]
    },
    {
     "name": "stderr",
     "output_type": "stream",
     "text": [
      "\r",
      " 14%|█▍        | 13/94 [04:43<30:06, 22.31s/it]"
     ]
    },
    {
     "name": "stdout",
     "output_type": "stream",
     "text": [
      "torch.Size([256, 1, 10])\n",
      "torch.Size([256, 1, 10])\n",
      "torch.Size([256, 1, 10])\n"
     ]
    },
    {
     "name": "stderr",
     "output_type": "stream",
     "text": [
      "\r",
      " 15%|█▍        | 14/94 [05:06<30:01, 22.52s/it]"
     ]
    },
    {
     "name": "stdout",
     "output_type": "stream",
     "text": [
      "torch.Size([256, 1, 10])\n",
      "torch.Size([256, 1, 10])\n",
      "torch.Size([256, 1, 10])\n"
     ]
    },
    {
     "name": "stderr",
     "output_type": "stream",
     "text": [
      "\r",
      " 16%|█▌        | 15/94 [05:30<30:20, 23.05s/it]"
     ]
    },
    {
     "name": "stdout",
     "output_type": "stream",
     "text": [
      "torch.Size([256, 1, 10])\n",
      "torch.Size([256, 1, 10])\n",
      "torch.Size([256, 1, 10])\n"
     ]
    },
    {
     "name": "stderr",
     "output_type": "stream",
     "text": [
      "\r",
      " 17%|█▋        | 16/94 [05:51<29:00, 22.32s/it]"
     ]
    },
    {
     "name": "stdout",
     "output_type": "stream",
     "text": [
      "torch.Size([256, 1, 10])\n",
      "torch.Size([256, 1, 10])\n",
      "torch.Size([256, 1, 10])\n"
     ]
    },
    {
     "name": "stderr",
     "output_type": "stream",
     "text": [
      "\r",
      " 18%|█▊        | 17/94 [06:17<30:04, 23.43s/it]"
     ]
    },
    {
     "name": "stdout",
     "output_type": "stream",
     "text": [
      "torch.Size([256, 1, 10])\n",
      "torch.Size([256, 1, 10])\n",
      "torch.Size([256, 1, 10])\n"
     ]
    },
    {
     "name": "stderr",
     "output_type": "stream",
     "text": [
      "\r",
      " 19%|█▉        | 18/94 [06:36<28:01, 22.13s/it]"
     ]
    },
    {
     "name": "stdout",
     "output_type": "stream",
     "text": [
      "torch.Size([256, 1, 10])\n",
      "torch.Size([256, 1, 10])\n",
      "torch.Size([256, 1, 10])\n"
     ]
    },
    {
     "name": "stderr",
     "output_type": "stream",
     "text": [
      "\r",
      " 20%|██        | 19/94 [07:00<28:29, 22.79s/it]"
     ]
    },
    {
     "name": "stdout",
     "output_type": "stream",
     "text": [
      "torch.Size([256, 1, 10])\n",
      "torch.Size([256, 1, 10])\n",
      "torch.Size([256, 1, 10])\n"
     ]
    },
    {
     "name": "stderr",
     "output_type": "stream",
     "text": [
      "\r",
      " 21%|██▏       | 20/94 [07:24<28:24, 23.04s/it]"
     ]
    },
    {
     "name": "stdout",
     "output_type": "stream",
     "text": [
      "torch.Size([256, 1, 10])\n",
      "torch.Size([256, 1, 10])\n",
      "torch.Size([256, 1, 10])\n"
     ]
    },
    {
     "name": "stderr",
     "output_type": "stream",
     "text": [
      "\r",
      " 22%|██▏       | 21/94 [07:42<26:19, 21.64s/it]"
     ]
    },
    {
     "name": "stdout",
     "output_type": "stream",
     "text": [
      "torch.Size([256, 1, 10])\n",
      "torch.Size([256, 1, 10])\n",
      "torch.Size([256, 1, 10])\n"
     ]
    },
    {
     "name": "stderr",
     "output_type": "stream",
     "text": [
      "\r",
      " 23%|██▎       | 22/94 [08:04<25:55, 21.60s/it]"
     ]
    },
    {
     "name": "stdout",
     "output_type": "stream",
     "text": [
      "torch.Size([256, 1, 10])\n",
      "torch.Size([256, 1, 10])\n",
      "torch.Size([256, 1, 10])\n"
     ]
    },
    {
     "name": "stderr",
     "output_type": "stream",
     "text": [
      "\r",
      " 24%|██▍       | 23/94 [08:29<27:00, 22.82s/it]"
     ]
    },
    {
     "name": "stdout",
     "output_type": "stream",
     "text": [
      "torch.Size([256, 1, 10])\n",
      "torch.Size([256, 1, 10])\n",
      "torch.Size([256, 1, 10])\n"
     ]
    },
    {
     "name": "stderr",
     "output_type": "stream",
     "text": [
      "\r",
      " 26%|██▌       | 24/94 [08:53<26:51, 23.02s/it]"
     ]
    },
    {
     "name": "stdout",
     "output_type": "stream",
     "text": [
      "torch.Size([256, 1, 10])\n",
      "torch.Size([256, 1, 10])\n",
      "torch.Size([256, 1, 10])\n"
     ]
    },
    {
     "name": "stderr",
     "output_type": "stream",
     "text": [
      "\r",
      " 27%|██▋       | 25/94 [09:22<28:37, 24.89s/it]"
     ]
    },
    {
     "name": "stdout",
     "output_type": "stream",
     "text": [
      "torch.Size([256, 1, 10])\n",
      "torch.Size([256, 1, 10])\n",
      "torch.Size([256, 1, 10])\n"
     ]
    },
    {
     "name": "stderr",
     "output_type": "stream",
     "text": [
      "\r",
      " 28%|██▊       | 26/94 [09:42<26:37, 23.49s/it]"
     ]
    },
    {
     "name": "stdout",
     "output_type": "stream",
     "text": [
      "torch.Size([256, 1, 10])\n",
      "torch.Size([256, 1, 10])\n",
      "torch.Size([256, 1, 10])\n"
     ]
    },
    {
     "name": "stderr",
     "output_type": "stream",
     "text": [
      "\r",
      " 29%|██▊       | 27/94 [10:05<26:00, 23.29s/it]"
     ]
    },
    {
     "name": "stdout",
     "output_type": "stream",
     "text": [
      "torch.Size([256, 1, 10])\n",
      "torch.Size([256, 1, 10])\n",
      "torch.Size([256, 1, 10])\n"
     ]
    },
    {
     "name": "stderr",
     "output_type": "stream",
     "text": [
      "\r",
      " 30%|██▉       | 28/94 [10:28<25:37, 23.30s/it]"
     ]
    },
    {
     "name": "stdout",
     "output_type": "stream",
     "text": [
      "torch.Size([256, 1, 10])\n",
      "torch.Size([256, 1, 10])\n",
      "torch.Size([256, 1, 10])\n"
     ]
    },
    {
     "name": "stderr",
     "output_type": "stream",
     "text": [
      "\r",
      " 31%|███       | 29/94 [10:52<25:11, 23.26s/it]"
     ]
    },
    {
     "name": "stdout",
     "output_type": "stream",
     "text": [
      "torch.Size([256, 1, 10])\n",
      "torch.Size([256, 1, 10])\n",
      "torch.Size([256, 1, 10])\n"
     ]
    },
    {
     "name": "stderr",
     "output_type": "stream",
     "text": [
      "\r",
      " 32%|███▏      | 30/94 [11:16<25:04, 23.51s/it]"
     ]
    },
    {
     "name": "stdout",
     "output_type": "stream",
     "text": [
      "torch.Size([256, 1, 10])\n",
      "torch.Size([256, 1, 10])\n",
      "torch.Size([256, 1, 10])\n"
     ]
    },
    {
     "name": "stderr",
     "output_type": "stream",
     "text": [
      "\r",
      " 33%|███▎      | 31/94 [11:34<23:03, 21.96s/it]"
     ]
    },
    {
     "name": "stdout",
     "output_type": "stream",
     "text": [
      "torch.Size([256, 1, 10])\n",
      "torch.Size([256, 1, 10])\n",
      "torch.Size([256, 1, 10])\n"
     ]
    },
    {
     "name": "stderr",
     "output_type": "stream",
     "text": [
      "\r",
      " 34%|███▍      | 32/94 [11:56<22:43, 22.00s/it]"
     ]
    },
    {
     "name": "stdout",
     "output_type": "stream",
     "text": [
      "torch.Size([256, 1, 10])\n",
      "torch.Size([256, 1, 10])\n",
      "torch.Size([256, 1, 10])\n"
     ]
    },
    {
     "name": "stderr",
     "output_type": "stream",
     "text": [
      "\r",
      " 35%|███▌      | 33/94 [12:18<22:22, 22.01s/it]"
     ]
    },
    {
     "name": "stdout",
     "output_type": "stream",
     "text": [
      "torch.Size([256, 1, 10])\n",
      "torch.Size([256, 1, 10])\n",
      "torch.Size([256, 1, 10])\n"
     ]
    },
    {
     "name": "stderr",
     "output_type": "stream",
     "text": [
      "\r",
      " 36%|███▌      | 34/94 [12:38<21:28, 21.47s/it]"
     ]
    },
    {
     "name": "stdout",
     "output_type": "stream",
     "text": [
      "torch.Size([256, 1, 10])\n",
      "torch.Size([256, 1, 10])\n",
      "torch.Size([256, 1, 10])\n"
     ]
    },
    {
     "name": "stderr",
     "output_type": "stream",
     "text": [
      "\r",
      " 37%|███▋      | 35/94 [12:59<21:00, 21.36s/it]"
     ]
    },
    {
     "name": "stdout",
     "output_type": "stream",
     "text": [
      "torch.Size([256, 1, 10])\n",
      "torch.Size([256, 1, 10])\n",
      "torch.Size([256, 1, 10])\n"
     ]
    },
    {
     "name": "stderr",
     "output_type": "stream",
     "text": [
      "\r",
      " 38%|███▊      | 36/94 [13:22<21:06, 21.84s/it]"
     ]
    },
    {
     "name": "stdout",
     "output_type": "stream",
     "text": [
      "torch.Size([256, 1, 10])\n",
      "torch.Size([256, 1, 10])\n",
      "torch.Size([256, 1, 10])\n"
     ]
    },
    {
     "name": "stderr",
     "output_type": "stream",
     "text": [
      "\r",
      " 39%|███▉      | 37/94 [13:44<20:34, 21.66s/it]"
     ]
    },
    {
     "name": "stdout",
     "output_type": "stream",
     "text": [
      "torch.Size([256, 1, 10])\n",
      "torch.Size([256, 1, 10])\n",
      "torch.Size([256, 1, 10])\n"
     ]
    },
    {
     "name": "stderr",
     "output_type": "stream",
     "text": [
      "\r",
      " 40%|████      | 38/94 [14:07<20:37, 22.10s/it]"
     ]
    },
    {
     "name": "stdout",
     "output_type": "stream",
     "text": [
      "torch.Size([256, 1, 10])\n",
      "torch.Size([256, 1, 10])\n",
      "torch.Size([256, 1, 10])\n"
     ]
    },
    {
     "name": "stderr",
     "output_type": "stream",
     "text": [
      "\r",
      " 41%|████▏     | 39/94 [14:27<19:47, 21.59s/it]"
     ]
    },
    {
     "name": "stdout",
     "output_type": "stream",
     "text": [
      "torch.Size([256, 1, 10])\n",
      "torch.Size([256, 1, 10])\n",
      "torch.Size([256, 1, 10])\n"
     ]
    },
    {
     "name": "stderr",
     "output_type": "stream",
     "text": [
      "\r",
      " 43%|████▎     | 40/94 [14:47<18:55, 21.03s/it]"
     ]
    },
    {
     "name": "stdout",
     "output_type": "stream",
     "text": [
      "torch.Size([256, 1, 10])\n",
      "torch.Size([256, 1, 10])\n",
      "torch.Size([256, 1, 10])\n"
     ]
    },
    {
     "name": "stderr",
     "output_type": "stream",
     "text": [
      "\r",
      " 44%|████▎     | 41/94 [15:08<18:41, 21.16s/it]"
     ]
    },
    {
     "name": "stdout",
     "output_type": "stream",
     "text": [
      "torch.Size([256, 1, 10])\n",
      "torch.Size([256, 1, 10])\n",
      "torch.Size([256, 1, 10])\n"
     ]
    },
    {
     "name": "stderr",
     "output_type": "stream",
     "text": [
      "\r",
      " 45%|████▍     | 42/94 [15:29<18:09, 20.96s/it]"
     ]
    },
    {
     "name": "stdout",
     "output_type": "stream",
     "text": [
      "torch.Size([256, 1, 10])\n",
      "torch.Size([256, 1, 10])\n",
      "torch.Size([256, 1, 10])\n"
     ]
    },
    {
     "name": "stderr",
     "output_type": "stream",
     "text": [
      "\r",
      " 46%|████▌     | 43/94 [15:52<18:22, 21.62s/it]"
     ]
    },
    {
     "name": "stdout",
     "output_type": "stream",
     "text": [
      "torch.Size([256, 1, 10])\n",
      "torch.Size([256, 1, 10])\n",
      "torch.Size([256, 1, 10])\n"
     ]
    },
    {
     "name": "stderr",
     "output_type": "stream",
     "text": [
      "\r",
      " 47%|████▋     | 44/94 [16:12<17:29, 20.99s/it]"
     ]
    },
    {
     "name": "stdout",
     "output_type": "stream",
     "text": [
      "torch.Size([256, 1, 10])\n",
      "torch.Size([256, 1, 10])\n",
      "torch.Size([256, 1, 10])\n"
     ]
    },
    {
     "name": "stderr",
     "output_type": "stream",
     "text": [
      "\r",
      " 48%|████▊     | 45/94 [16:33<17:17, 21.17s/it]"
     ]
    },
    {
     "name": "stdout",
     "output_type": "stream",
     "text": [
      "torch.Size([256, 1, 10])\n",
      "torch.Size([256, 1, 10])\n",
      "torch.Size([256, 1, 10])\n"
     ]
    },
    {
     "name": "stderr",
     "output_type": "stream",
     "text": [
      "\r",
      " 49%|████▉     | 46/94 [16:56<17:20, 21.68s/it]"
     ]
    },
    {
     "name": "stdout",
     "output_type": "stream",
     "text": [
      "torch.Size([256, 1, 10])\n",
      "torch.Size([256, 1, 10])\n",
      "torch.Size([256, 1, 10])\n"
     ]
    },
    {
     "name": "stderr",
     "output_type": "stream",
     "text": [
      "\r",
      " 50%|█████     | 47/94 [17:18<17:09, 21.91s/it]"
     ]
    },
    {
     "name": "stdout",
     "output_type": "stream",
     "text": [
      "torch.Size([256, 1, 10])\n",
      "torch.Size([256, 1, 10])\n",
      "torch.Size([256, 1, 10])\n"
     ]
    },
    {
     "name": "stderr",
     "output_type": "stream",
     "text": [
      "\r",
      " 51%|█████     | 48/94 [17:42<17:07, 22.34s/it]"
     ]
    },
    {
     "name": "stdout",
     "output_type": "stream",
     "text": [
      "torch.Size([256, 1, 10])\n",
      "torch.Size([256, 1, 10])\n",
      "torch.Size([256, 1, 10])\n"
     ]
    },
    {
     "name": "stderr",
     "output_type": "stream",
     "text": [
      "\r",
      " 52%|█████▏    | 49/94 [18:04<16:40, 22.22s/it]"
     ]
    },
    {
     "name": "stdout",
     "output_type": "stream",
     "text": [
      "torch.Size([256, 1, 10])\n",
      "torch.Size([256, 1, 10])\n",
      "torch.Size([256, 1, 10])\n"
     ]
    },
    {
     "name": "stderr",
     "output_type": "stream",
     "text": [
      "\r",
      " 53%|█████▎    | 50/94 [18:26<16:18, 22.23s/it]"
     ]
    },
    {
     "name": "stdout",
     "output_type": "stream",
     "text": [
      "torch.Size([256, 1, 10])\n",
      "torch.Size([256, 1, 10])\n",
      "torch.Size([256, 1, 10])\n"
     ]
    },
    {
     "name": "stderr",
     "output_type": "stream",
     "text": [
      "\r",
      " 54%|█████▍    | 51/94 [18:52<16:46, 23.40s/it]"
     ]
    },
    {
     "name": "stdout",
     "output_type": "stream",
     "text": [
      "torch.Size([256, 1, 10])\n",
      "torch.Size([256, 1, 10])\n",
      "torch.Size([256, 1, 10])\n"
     ]
    },
    {
     "name": "stderr",
     "output_type": "stream",
     "text": [
      "\r",
      " 55%|█████▌    | 52/94 [19:15<16:15, 23.22s/it]"
     ]
    },
    {
     "name": "stdout",
     "output_type": "stream",
     "text": [
      "torch.Size([256, 1, 10])\n",
      "torch.Size([256, 1, 10])\n",
      "torch.Size([256, 1, 10])\n"
     ]
    },
    {
     "name": "stderr",
     "output_type": "stream",
     "text": [
      "\r",
      " 56%|█████▋    | 53/94 [19:33<14:52, 21.76s/it]"
     ]
    },
    {
     "name": "stdout",
     "output_type": "stream",
     "text": [
      "torch.Size([256, 1, 10])\n",
      "torch.Size([256, 1, 10])\n",
      "torch.Size([256, 1, 10])\n"
     ]
    },
    {
     "name": "stderr",
     "output_type": "stream",
     "text": [
      "\r",
      " 57%|█████▋    | 54/94 [19:55<14:28, 21.72s/it]"
     ]
    },
    {
     "name": "stdout",
     "output_type": "stream",
     "text": [
      "torch.Size([256, 1, 10])\n",
      "torch.Size([256, 1, 10])\n",
      "torch.Size([256, 1, 10])\n"
     ]
    },
    {
     "name": "stderr",
     "output_type": "stream",
     "text": [
      "\r",
      " 59%|█████▊    | 55/94 [20:14<13:33, 20.85s/it]"
     ]
    },
    {
     "name": "stdout",
     "output_type": "stream",
     "text": [
      "torch.Size([256, 1, 10])\n",
      "torch.Size([256, 1, 10])\n",
      "torch.Size([256, 1, 10])\n"
     ]
    },
    {
     "name": "stderr",
     "output_type": "stream",
     "text": [
      "\r",
      " 60%|█████▉    | 56/94 [20:35<13:18, 21.02s/it]"
     ]
    },
    {
     "name": "stdout",
     "output_type": "stream",
     "text": [
      "torch.Size([256, 1, 10])\n",
      "torch.Size([256, 1, 10])\n",
      "torch.Size([256, 1, 10])\n"
     ]
    },
    {
     "name": "stderr",
     "output_type": "stream",
     "text": [
      "\r",
      " 61%|██████    | 57/94 [20:53<12:18, 19.97s/it]"
     ]
    },
    {
     "name": "stdout",
     "output_type": "stream",
     "text": [
      "torch.Size([256, 1, 10])\n",
      "torch.Size([256, 1, 10])\n",
      "torch.Size([256, 1, 10])\n"
     ]
    },
    {
     "name": "stderr",
     "output_type": "stream",
     "text": [
      "\r",
      " 62%|██████▏   | 58/94 [21:15<12:19, 20.54s/it]"
     ]
    },
    {
     "name": "stdout",
     "output_type": "stream",
     "text": [
      "torch.Size([256, 1, 10])\n",
      "torch.Size([256, 1, 10])\n",
      "torch.Size([256, 1, 10])\n"
     ]
    },
    {
     "name": "stderr",
     "output_type": "stream",
     "text": [
      "\r",
      " 63%|██████▎   | 59/94 [21:37<12:14, 20.98s/it]"
     ]
    },
    {
     "name": "stdout",
     "output_type": "stream",
     "text": [
      "torch.Size([256, 1, 10])\n",
      "torch.Size([256, 1, 10])\n",
      "torch.Size([256, 1, 10])\n"
     ]
    },
    {
     "name": "stderr",
     "output_type": "stream",
     "text": [
      "\r",
      " 64%|██████▍   | 60/94 [21:58<11:54, 21.02s/it]"
     ]
    },
    {
     "name": "stdout",
     "output_type": "stream",
     "text": [
      "torch.Size([256, 1, 10])\n",
      "torch.Size([256, 1, 10])\n",
      "torch.Size([256, 1, 10])\n"
     ]
    },
    {
     "name": "stderr",
     "output_type": "stream",
     "text": [
      "\r",
      " 65%|██████▍   | 61/94 [22:20<11:47, 21.45s/it]"
     ]
    },
    {
     "name": "stdout",
     "output_type": "stream",
     "text": [
      "torch.Size([256, 1, 10])\n",
      "torch.Size([256, 1, 10])\n",
      "torch.Size([256, 1, 10])\n"
     ]
    },
    {
     "name": "stderr",
     "output_type": "stream",
     "text": [
      "\r",
      " 66%|██████▌   | 62/94 [22:41<11:17, 21.18s/it]"
     ]
    },
    {
     "name": "stdout",
     "output_type": "stream",
     "text": [
      "torch.Size([256, 1, 10])\n",
      "torch.Size([256, 1, 10])\n",
      "torch.Size([256, 1, 10])\n"
     ]
    },
    {
     "name": "stderr",
     "output_type": "stream",
     "text": [
      "\r",
      " 67%|██████▋   | 63/94 [23:04<11:20, 21.95s/it]"
     ]
    },
    {
     "name": "stdout",
     "output_type": "stream",
     "text": [
      "torch.Size([256, 1, 10])\n",
      "torch.Size([256, 1, 10])\n",
      "torch.Size([256, 1, 10])\n"
     ]
    },
    {
     "name": "stderr",
     "output_type": "stream",
     "text": [
      "\r",
      " 68%|██████▊   | 64/94 [23:26<10:51, 21.73s/it]"
     ]
    },
    {
     "name": "stdout",
     "output_type": "stream",
     "text": [
      "torch.Size([256, 1, 10])\n",
      "torch.Size([256, 1, 10])\n",
      "torch.Size([256, 1, 10])\n"
     ]
    },
    {
     "name": "stderr",
     "output_type": "stream",
     "text": [
      "\r",
      " 69%|██████▉   | 65/94 [23:48<10:39, 22.05s/it]"
     ]
    },
    {
     "name": "stdout",
     "output_type": "stream",
     "text": [
      "torch.Size([256, 1, 10])\n",
      "torch.Size([256, 1, 10])\n",
      "torch.Size([256, 1, 10])\n"
     ]
    },
    {
     "name": "stderr",
     "output_type": "stream",
     "text": [
      "\r",
      " 70%|███████   | 66/94 [24:08<09:55, 21.28s/it]"
     ]
    },
    {
     "name": "stdout",
     "output_type": "stream",
     "text": [
      "torch.Size([256, 1, 10])\n",
      "torch.Size([256, 1, 10])\n",
      "torch.Size([256, 1, 10])\n"
     ]
    },
    {
     "name": "stderr",
     "output_type": "stream",
     "text": [
      "\r",
      " 71%|███████▏  | 67/94 [24:33<10:01, 22.29s/it]"
     ]
    },
    {
     "name": "stdout",
     "output_type": "stream",
     "text": [
      "torch.Size([256, 1, 10])\n",
      "torch.Size([256, 1, 10])\n",
      "torch.Size([256, 1, 10])\n"
     ]
    },
    {
     "name": "stderr",
     "output_type": "stream",
     "text": [
      "\r",
      " 72%|███████▏  | 68/94 [24:53<09:24, 21.71s/it]"
     ]
    },
    {
     "name": "stdout",
     "output_type": "stream",
     "text": [
      "torch.Size([256, 1, 10])\n",
      "torch.Size([256, 1, 10])\n",
      "torch.Size([256, 1, 10])\n"
     ]
    },
    {
     "name": "stderr",
     "output_type": "stream",
     "text": [
      "\r",
      " 73%|███████▎  | 69/94 [25:13<08:50, 21.23s/it]"
     ]
    },
    {
     "name": "stdout",
     "output_type": "stream",
     "text": [
      "torch.Size([256, 1, 10])\n",
      "torch.Size([256, 1, 10])\n",
      "torch.Size([256, 1, 10])\n"
     ]
    },
    {
     "name": "stderr",
     "output_type": "stream",
     "text": [
      "\r",
      " 74%|███████▍  | 70/94 [25:33<08:22, 20.92s/it]"
     ]
    },
    {
     "name": "stdout",
     "output_type": "stream",
     "text": [
      "torch.Size([256, 1, 10])\n",
      "torch.Size([256, 1, 10])\n",
      "torch.Size([256, 1, 10])\n"
     ]
    },
    {
     "name": "stderr",
     "output_type": "stream",
     "text": [
      "\r",
      " 76%|███████▌  | 71/94 [25:55<08:03, 21.02s/it]"
     ]
    },
    {
     "name": "stdout",
     "output_type": "stream",
     "text": [
      "torch.Size([256, 1, 10])\n",
      "torch.Size([256, 1, 10])\n",
      "torch.Size([256, 1, 10])\n"
     ]
    },
    {
     "name": "stderr",
     "output_type": "stream",
     "text": [
      "\r",
      " 77%|███████▋  | 72/94 [26:19<08:03, 21.96s/it]"
     ]
    },
    {
     "name": "stdout",
     "output_type": "stream",
     "text": [
      "torch.Size([256, 1, 10])\n",
      "torch.Size([256, 1, 10])\n",
      "torch.Size([256, 1, 10])\n"
     ]
    },
    {
     "name": "stderr",
     "output_type": "stream",
     "text": [
      "\r",
      " 78%|███████▊  | 73/94 [26:42<07:52, 22.48s/it]"
     ]
    },
    {
     "name": "stdout",
     "output_type": "stream",
     "text": [
      "torch.Size([256, 1, 10])\n",
      "torch.Size([256, 1, 10])\n",
      "torch.Size([256, 1, 10])\n"
     ]
    },
    {
     "name": "stderr",
     "output_type": "stream",
     "text": [
      "\r",
      " 79%|███████▊  | 74/94 [27:06<07:38, 22.93s/it]"
     ]
    },
    {
     "name": "stdout",
     "output_type": "stream",
     "text": [
      "torch.Size([256, 1, 10])\n",
      "torch.Size([256, 1, 10])\n",
      "torch.Size([256, 1, 10])\n"
     ]
    },
    {
     "name": "stderr",
     "output_type": "stream",
     "text": [
      "\r",
      " 80%|███████▉  | 75/94 [27:28<07:06, 22.44s/it]"
     ]
    },
    {
     "name": "stdout",
     "output_type": "stream",
     "text": [
      "torch.Size([256, 1, 10])\n",
      "torch.Size([256, 1, 10])\n",
      "torch.Size([256, 1, 10])\n"
     ]
    },
    {
     "name": "stderr",
     "output_type": "stream",
     "text": [
      "\r",
      " 81%|████████  | 76/94 [27:50<06:45, 22.51s/it]"
     ]
    },
    {
     "name": "stdout",
     "output_type": "stream",
     "text": [
      "torch.Size([256, 1, 10])\n",
      "torch.Size([256, 1, 10])\n",
      "torch.Size([256, 1, 10])\n"
     ]
    },
    {
     "name": "stderr",
     "output_type": "stream",
     "text": [
      "\r",
      " 82%|████████▏ | 77/94 [28:12<06:20, 22.37s/it]"
     ]
    },
    {
     "name": "stdout",
     "output_type": "stream",
     "text": [
      "torch.Size([256, 1, 10])\n",
      "torch.Size([256, 1, 10])\n",
      "torch.Size([256, 1, 10])\n"
     ]
    },
    {
     "name": "stderr",
     "output_type": "stream",
     "text": [
      "\r",
      " 83%|████████▎ | 78/94 [28:34<05:56, 22.29s/it]"
     ]
    },
    {
     "name": "stdout",
     "output_type": "stream",
     "text": [
      "torch.Size([256, 1, 10])\n",
      "torch.Size([256, 1, 10])\n",
      "torch.Size([256, 1, 10])\n"
     ]
    },
    {
     "name": "stderr",
     "output_type": "stream",
     "text": [
      "\r",
      " 84%|████████▍ | 79/94 [28:58<05:38, 22.60s/it]"
     ]
    },
    {
     "name": "stdout",
     "output_type": "stream",
     "text": [
      "torch.Size([256, 1, 10])\n",
      "torch.Size([256, 1, 10])\n",
      "torch.Size([256, 1, 10])\n"
     ]
    },
    {
     "name": "stderr",
     "output_type": "stream",
     "text": [
      "\r",
      " 85%|████████▌ | 80/94 [29:17<05:03, 21.67s/it]"
     ]
    },
    {
     "name": "stdout",
     "output_type": "stream",
     "text": [
      "torch.Size([256, 1, 10])\n",
      "torch.Size([256, 1, 10])\n",
      "torch.Size([256, 1, 10])\n"
     ]
    },
    {
     "name": "stderr",
     "output_type": "stream",
     "text": [
      "\r",
      " 86%|████████▌ | 81/94 [29:39<04:40, 21.56s/it]"
     ]
    },
    {
     "name": "stdout",
     "output_type": "stream",
     "text": [
      "torch.Size([256, 1, 10])\n",
      "torch.Size([256, 1, 10])\n",
      "torch.Size([256, 1, 10])\n"
     ]
    },
    {
     "name": "stderr",
     "output_type": "stream",
     "text": [
      "\r",
      " 87%|████████▋ | 82/94 [30:00<04:17, 21.45s/it]"
     ]
    },
    {
     "name": "stdout",
     "output_type": "stream",
     "text": [
      "torch.Size([256, 1, 10])\n",
      "torch.Size([256, 1, 10])\n",
      "torch.Size([256, 1, 10])\n"
     ]
    },
    {
     "name": "stderr",
     "output_type": "stream",
     "text": [
      "\r",
      " 88%|████████▊ | 83/94 [30:24<04:06, 22.37s/it]"
     ]
    },
    {
     "name": "stdout",
     "output_type": "stream",
     "text": [
      "torch.Size([256, 1, 10])\n",
      "torch.Size([256, 1, 10])\n",
      "torch.Size([256, 1, 10])\n"
     ]
    },
    {
     "name": "stderr",
     "output_type": "stream",
     "text": [
      "\r",
      " 89%|████████▉ | 84/94 [30:49<03:51, 23.17s/it]"
     ]
    },
    {
     "name": "stdout",
     "output_type": "stream",
     "text": [
      "torch.Size([256, 1, 10])\n",
      "torch.Size([256, 1, 10])\n",
      "torch.Size([256, 1, 10])\n"
     ]
    },
    {
     "name": "stderr",
     "output_type": "stream",
     "text": [
      "\r",
      " 90%|█████████ | 85/94 [31:11<03:23, 22.61s/it]"
     ]
    },
    {
     "name": "stdout",
     "output_type": "stream",
     "text": [
      "torch.Size([256, 1, 10])\n",
      "torch.Size([256, 1, 10])\n",
      "torch.Size([256, 1, 10])\n"
     ]
    },
    {
     "name": "stderr",
     "output_type": "stream",
     "text": [
      "\r",
      " 91%|█████████▏| 86/94 [31:34<03:02, 22.84s/it]"
     ]
    },
    {
     "name": "stdout",
     "output_type": "stream",
     "text": [
      "torch.Size([256, 1, 10])\n",
      "torch.Size([256, 1, 10])\n",
      "torch.Size([256, 1, 10])\n"
     ]
    },
    {
     "name": "stderr",
     "output_type": "stream",
     "text": [
      "\r",
      " 93%|█████████▎| 87/94 [31:55<02:35, 22.18s/it]"
     ]
    },
    {
     "name": "stdout",
     "output_type": "stream",
     "text": [
      "torch.Size([256, 1, 10])\n",
      "torch.Size([256, 1, 10])\n",
      "torch.Size([256, 1, 10])\n"
     ]
    },
    {
     "name": "stderr",
     "output_type": "stream",
     "text": [
      "\r",
      " 94%|█████████▎| 88/94 [32:17<02:12, 22.12s/it]"
     ]
    },
    {
     "name": "stdout",
     "output_type": "stream",
     "text": [
      "torch.Size([256, 1, 10])\n",
      "torch.Size([256, 1, 10])\n",
      "torch.Size([256, 1, 10])\n"
     ]
    },
    {
     "name": "stderr",
     "output_type": "stream",
     "text": [
      "\r",
      " 95%|█████████▍| 89/94 [32:39<01:50, 22.06s/it]"
     ]
    },
    {
     "name": "stdout",
     "output_type": "stream",
     "text": [
      "torch.Size([256, 1, 10])\n",
      "torch.Size([256, 1, 10])\n",
      "torch.Size([256, 1, 10])\n"
     ]
    },
    {
     "name": "stderr",
     "output_type": "stream",
     "text": [
      "\r",
      " 96%|█████████▌| 90/94 [32:57<01:24, 21.09s/it]"
     ]
    },
    {
     "name": "stdout",
     "output_type": "stream",
     "text": [
      "torch.Size([256, 1, 10])\n",
      "torch.Size([256, 1, 10])\n",
      "torch.Size([256, 1, 10])\n"
     ]
    },
    {
     "name": "stderr",
     "output_type": "stream",
     "text": [
      "\r",
      " 97%|█████████▋| 91/94 [33:20<01:04, 21.55s/it]"
     ]
    },
    {
     "name": "stdout",
     "output_type": "stream",
     "text": [
      "torch.Size([256, 1, 10])\n",
      "torch.Size([256, 1, 10])\n",
      "torch.Size([256, 1, 10])\n"
     ]
    },
    {
     "name": "stderr",
     "output_type": "stream",
     "text": [
      "\r",
      " 98%|█████████▊| 92/94 [33:45<00:44, 22.44s/it]"
     ]
    },
    {
     "name": "stdout",
     "output_type": "stream",
     "text": [
      "torch.Size([256, 1, 10])\n",
      "torch.Size([256, 1, 10])\n",
      "torch.Size([256, 1, 10])\n"
     ]
    },
    {
     "name": "stderr",
     "output_type": "stream",
     "text": [
      "\r",
      " 99%|█████████▉| 93/94 [34:04<00:21, 21.70s/it]"
     ]
    },
    {
     "name": "stdout",
     "output_type": "stream",
     "text": [
      "torch.Size([256, 1, 10])\n"
     ]
    },
    {
     "name": "stderr",
     "output_type": "stream",
     "text": [
      "100%|██████████| 94/94 [34:13<00:00, 21.84s/it]"
     ]
    },
    {
     "name": "stdout",
     "output_type": "stream",
     "text": [
      "torch.Size([94, 1, 10])\n",
      "torch.Size([94, 1, 10])\n",
      "torch.Size([94, 1, 10])\n"
     ]
    },
    {
     "name": "stderr",
     "output_type": "stream",
     "text": [
      "\n"
     ]
    }
   ],
   "source": [
    "results = []\n",
    "for b_img, b_class, b_time, b_weather, b_locations in tqdm(dataloader):\n",
    "    with torch.no_grad():\n",
    "        b_pred_class_probs_locations = torch.softmax(model(b_img.to(device), which=0, context=b_locations.argmax(-1)), dim=-1)\n",
    "        b_pred_class_probs_weather = torch.softmax(model(b_img.to(device), which=1, context=b_weather), dim=-1)\n",
    "        b_pred_class_probs_time = torch.softmax(model(b_img.to(device), which=2, context=b_time), dim=-1)\n",
    "    results.append(torch.cat((b_pred_class_probs_locations.cpu(), b_pred_class_probs_weather.cpu(), b_pred_class_probs_time.cpu(), b_class.unsqueeze(-1), b_time.unsqueeze(-1), b_weather.unsqueeze(-1), b_locations) , dim=-1))"
   ]
  },
  {
   "cell_type": "code",
   "execution_count": 30,
   "id": "69855531",
   "metadata": {},
   "outputs": [
    {
     "data": {
      "text/plain": [
       "tensor([3, 2, 0, 2, 1, 8, 1, 7, 4, 6, 2, 8, 8, 1, 4, 8, 1, 2, 8, 1, 5, 2, 7, 2,\n",
       "        2, 7, 1, 4, 7, 5, 0, 1, 8, 0, 5, 2, 1, 5, 5, 4, 7, 2, 8, 2, 3, 8, 2, 0,\n",
       "        4, 0, 3, 8, 8, 1, 1, 7, 5, 8, 4, 6, 1, 8, 4, 8, 2, 1, 2, 3, 2, 4, 4, 7,\n",
       "        8, 1, 6, 7, 6, 0, 2, 5, 5, 4, 3, 0, 6, 8, 4, 7, 4, 1, 0, 3, 2, 5, 5, 1,\n",
       "        8, 0, 4, 5, 4, 5, 5, 2, 0, 8, 1, 1, 2, 1, 0, 8, 2, 7, 0, 6, 5, 1, 7, 0,\n",
       "        6, 2, 8, 2, 4, 0, 6, 0, 1, 6, 2, 5, 0, 7, 1, 1, 6, 7, 0, 2, 8, 7, 7, 0,\n",
       "        1, 2, 1, 4, 4, 7, 3, 4, 0, 5, 4, 1, 8, 4, 8, 5, 0, 0, 8, 8, 2, 3, 1, 2,\n",
       "        7, 6, 7, 4, 2, 2, 5, 1, 1, 8, 0, 0, 7, 3, 8, 1, 8, 7, 0, 4, 0, 8, 1, 7,\n",
       "        0, 1, 2, 8, 3, 1, 7, 1, 0, 7, 2, 1, 8, 2, 0, 7, 4, 5, 3, 0, 2, 4, 7, 8,\n",
       "        5, 3, 7, 7, 4, 7, 7, 7, 2, 8, 4, 7, 1, 7, 1, 2, 2, 0, 8, 1, 2, 5, 1, 8,\n",
       "        2, 8, 7, 5, 8, 0, 1, 0, 1, 1, 8, 1, 7, 0, 7, 6])"
      ]
     },
     "execution_count": 30,
     "metadata": {},
     "output_type": "execute_result"
    }
   ],
   "source": [
    "b_locations.argmax(-1)"
   ]
  },
  {
   "cell_type": "code",
   "execution_count": 34,
   "id": "d8d318af",
   "metadata": {},
   "outputs": [],
   "source": [
    "results = torch.cat(results , 0)"
   ]
  },
  {
   "cell_type": "code",
   "execution_count": 39,
   "id": "66745f2e",
   "metadata": {},
   "outputs": [
    {
     "data": {
      "text/plain": [
       "torch.Size([23902, 10])"
      ]
     },
     "execution_count": 39,
     "metadata": {},
     "output_type": "execute_result"
    }
   ],
   "source": [
    "preds_loc.shape"
   ]
  },
  {
   "cell_type": "code",
   "execution_count": 38,
   "id": "6699ed8e",
   "metadata": {},
   "outputs": [],
   "source": [
    "# with open('./results_with_context.pkl', 'wb+') as fp:\n",
    "#     pickle.dump(results, fp)\n",
    "preds_loc, preds_weather, preds_time, labels, time, weather, location = results[:,:10], results[:,10:20], results[:,20:30], results[:,30], results[:,31], results[:,32], results[:,33:] "
   ]
  },
  {
   "cell_type": "code",
   "execution_count": 45,
   "id": "a74e13d1",
   "metadata": {},
   "outputs": [],
   "source": [
    "hits_loc = (preds_loc.argmax(-1) == labels).float()"
   ]
  },
  {
   "cell_type": "code",
   "execution_count": 43,
   "id": "94dc33f4",
   "metadata": {},
   "outputs": [
    {
     "name": "stdout",
     "output_type": "stream",
     "text": [
      "tensor(0.9341)\n"
     ]
    }
   ],
   "source": [
    "print((preds_weather.argmax(-1) == labels).float().mean())"
   ]
  },
  {
   "cell_type": "code",
   "execution_count": 44,
   "id": "82a0d7ec",
   "metadata": {},
   "outputs": [
    {
     "name": "stdout",
     "output_type": "stream",
     "text": [
      "tensor(0.9339)\n"
     ]
    }
   ],
   "source": [
    "print((preds_time.argmax(-1) == labels).float().mean())"
   ]
  },
  {
   "cell_type": "code",
   "execution_count": 57,
   "id": "c13725d0",
   "metadata": {},
   "outputs": [],
   "source": [
    "with open('./results.pkl', 'rb') as fp:\n",
    "     preds = pickle.load(fp)[:,:10]\n",
    "hits = (preds.argmax(-1) == labels).float()"
   ]
  },
  {
   "cell_type": "code",
   "execution_count": 33,
   "id": "4474be86",
   "metadata": {},
   "outputs": [
    {
     "ename": "TypeError",
     "evalue": "list indices must be integers or slices, not tuple",
     "output_type": "error",
     "traceback": [
      "\u001b[0;31m---------------------------------------------------------------------------\u001b[0m",
      "\u001b[0;31mTypeError\u001b[0m                                 Traceback (most recent call last)",
      "\u001b[0;32m<ipython-input-33-f2a39c69ce97>\u001b[0m in \u001b[0;36m<module>\u001b[0;34m\u001b[0m\n\u001b[0;32m----> 1\u001b[0;31m \u001b[0mpreds\u001b[0m\u001b[0;34m,\u001b[0m \u001b[0mlabels\u001b[0m\u001b[0;34m,\u001b[0m \u001b[0mtime\u001b[0m\u001b[0;34m,\u001b[0m \u001b[0mweather\u001b[0m\u001b[0;34m,\u001b[0m \u001b[0mlocation\u001b[0m \u001b[0;34m=\u001b[0m \u001b[0mresults\u001b[0m\u001b[0;34m[\u001b[0m\u001b[0;34m:\u001b[0m\u001b[0;34m,\u001b[0m\u001b[0;34m:\u001b[0m\u001b[0;36m10\u001b[0m\u001b[0;34m]\u001b[0m\u001b[0;34m,\u001b[0m \u001b[0mresults\u001b[0m\u001b[0;34m[\u001b[0m\u001b[0;34m:\u001b[0m\u001b[0;34m,\u001b[0m\u001b[0;36m10\u001b[0m\u001b[0;34m:\u001b[0m\u001b[0;36m20\u001b[0m\u001b[0;34m]\u001b[0m\u001b[0;34m,\u001b[0m \u001b[0mresults\u001b[0m\u001b[0;34m[\u001b[0m\u001b[0;34m:\u001b[0m\u001b[0;34m,\u001b[0m\u001b[0;36m20\u001b[0m\u001b[0;34m:\u001b[0m\u001b[0;36m30\u001b[0m\u001b[0;34m]\u001b[0m\u001b[0;34m,\u001b[0m \u001b[0mresults\u001b[0m\u001b[0;34m[\u001b[0m\u001b[0;34m:\u001b[0m\u001b[0;34m,\u001b[0m\u001b[0;36m30\u001b[0m\u001b[0;34m]\u001b[0m\u001b[0;34m,\u001b[0m \u001b[0mresults\u001b[0m\u001b[0;34m[\u001b[0m\u001b[0;34m:\u001b[0m\u001b[0;34m,\u001b[0m\u001b[0;36m31\u001b[0m\u001b[0;34m]\u001b[0m\u001b[0;34m,\u001b[0m \u001b[0mresults\u001b[0m\u001b[0;34m[\u001b[0m\u001b[0;34m:\u001b[0m\u001b[0;34m,\u001b[0m\u001b[0;36m32\u001b[0m\u001b[0;34m]\u001b[0m\u001b[0;34m,\u001b[0m \u001b[0mresults\u001b[0m\u001b[0;34m[\u001b[0m\u001b[0;34m:\u001b[0m\u001b[0;34m,\u001b[0m\u001b[0;36m33\u001b[0m\u001b[0;34m:\u001b[0m\u001b[0;34m]\u001b[0m\u001b[0;34m\u001b[0m\u001b[0;34m\u001b[0m\u001b[0m\n\u001b[0m",
      "\u001b[0;31mTypeError\u001b[0m: list indices must be integers or slices, not tuple"
     ]
    }
   ],
   "source": [
    "preds, labels, time, weather, location = results[:,:10], results[:,10], results[:,11], results[:,12], results[:,13:] "
   ]
  },
  {
   "cell_type": "code",
   "execution_count": 21,
   "id": "9e663498",
   "metadata": {},
   "outputs": [],
   "source": [
    "hits = (preds.argmax(-1) == labels).int()"
   ]
  },
  {
   "cell_type": "code",
   "execution_count": 22,
   "id": "9f5f45b1",
   "metadata": {},
   "outputs": [
    {
     "data": {
      "text/plain": [
       "tensor(0.9384)"
      ]
     },
     "execution_count": 22,
     "metadata": {},
     "output_type": "execute_result"
    }
   ],
   "source": [
    "torch.mean(hits.float())"
   ]
  },
  {
   "cell_type": "code",
   "execution_count": 47,
   "id": "646279d8",
   "metadata": {},
   "outputs": [],
   "source": [
    "bg = BGVarDataset"
   ]
  },
  {
   "cell_type": "code",
   "execution_count": 62,
   "id": "264b3bab",
   "metadata": {},
   "outputs": [],
   "source": [
    "r_mat = np.matrix(np.zeros((len(bg.locations), len(bg.categories))))\n",
    "l_mat = np.matrix(np.zeros((len(bg.locations), len(bg.categories))))\n",
    "for lk, lv in bg.locations.items():\n",
    "    for ck, cv in  bg.categories.items():\n",
    "        selected_hits = hits_loc[torch.logical_and(location[:,lv] == 1, cv == labels)]\n",
    "        r_mat[lv, cv] = torch.sum(selected_hits)/len(selected_hits)\n",
    "        l_mat[lv, cv] = len(selected_hits)"
   ]
  },
  {
   "cell_type": "code",
   "execution_count": 61,
   "id": "1736079f",
   "metadata": {},
   "outputs": [
    {
     "data": {
      "text/plain": [
       "matrix([[0.07157264],\n",
       "        [0.08343141],\n",
       "        [0.10336953],\n",
       "        [0.11404232],\n",
       "        [0.10582133],\n",
       "        [0.05348636],\n",
       "        [0.06454713],\n",
       "        [0.0978155 ],\n",
       "        [0.07100307]])"
      ]
     },
     "execution_count": 61,
     "metadata": {},
     "output_type": "execute_result"
    }
   ],
   "source": [
    "r_mat.std(-1)"
   ]
  },
  {
   "cell_type": "code",
   "execution_count": 63,
   "id": "ca50c161",
   "metadata": {},
   "outputs": [
    {
     "data": {
      "text/plain": [
       "matrix([[0.06684541],\n",
       "        [0.07764915],\n",
       "        [0.11705085],\n",
       "        [0.11521453],\n",
       "        [0.1023005 ],\n",
       "        [0.06743765],\n",
       "        [0.07492102],\n",
       "        [0.10112057],\n",
       "        [0.06725361]])"
      ]
     },
     "execution_count": 63,
     "metadata": {},
     "output_type": "execute_result"
    }
   ],
   "source": [
    "r_mat.std(-1)"
   ]
  },
  {
   "cell_type": "code",
   "execution_count": 59,
   "id": "f07fdfed",
   "metadata": {},
   "outputs": [
    {
     "data": {
      "text/html": [
       "<div>\n",
       "<style scoped>\n",
       "    .dataframe tbody tr th:only-of-type {\n",
       "        vertical-align: middle;\n",
       "    }\n",
       "\n",
       "    .dataframe tbody tr th {\n",
       "        vertical-align: top;\n",
       "    }\n",
       "\n",
       "    .dataframe thead th {\n",
       "        text-align: right;\n",
       "    }\n",
       "</style>\n",
       "<table border=\"1\" class=\"dataframe\">\n",
       "  <thead>\n",
       "    <tr style=\"text-align: right;\">\n",
       "      <th></th>\n",
       "      <th>truck</th>\n",
       "      <th>car</th>\n",
       "      <th>plane</th>\n",
       "      <th>ship</th>\n",
       "      <th>cat</th>\n",
       "      <th>dog</th>\n",
       "      <th>horse</th>\n",
       "      <th>deer</th>\n",
       "      <th>frog</th>\n",
       "      <th>bird</th>\n",
       "    </tr>\n",
       "  </thead>\n",
       "  <tbody>\n",
       "    <tr>\n",
       "      <th>forest</th>\n",
       "      <td>0.914</td>\n",
       "      <td>0.742</td>\n",
       "      <td>0.944</td>\n",
       "      <td>0.987</td>\n",
       "      <td>0.889</td>\n",
       "      <td>0.927</td>\n",
       "      <td>0.977</td>\n",
       "      <td>0.983</td>\n",
       "      <td>0.991</td>\n",
       "      <td>0.972</td>\n",
       "    </tr>\n",
       "    <tr>\n",
       "      <th>grass</th>\n",
       "      <td>0.946</td>\n",
       "      <td>0.694</td>\n",
       "      <td>0.967</td>\n",
       "      <td>0.969</td>\n",
       "      <td>0.951</td>\n",
       "      <td>0.960</td>\n",
       "      <td>0.984</td>\n",
       "      <td>0.984</td>\n",
       "      <td>0.986</td>\n",
       "      <td>0.972</td>\n",
       "    </tr>\n",
       "    <tr>\n",
       "      <th>indoors</th>\n",
       "      <td>0.784</td>\n",
       "      <td>0.865</td>\n",
       "      <td>0.975</td>\n",
       "      <td>1.000</td>\n",
       "      <td>0.981</td>\n",
       "      <td>0.981</td>\n",
       "      <td>0.987</td>\n",
       "      <td>0.667</td>\n",
       "      <td>0.946</td>\n",
       "      <td>0.902</td>\n",
       "    </tr>\n",
       "    <tr>\n",
       "      <th>rocks</th>\n",
       "      <td>0.895</td>\n",
       "      <td>0.597</td>\n",
       "      <td>0.923</td>\n",
       "      <td>1.000</td>\n",
       "      <td>0.977</td>\n",
       "      <td>0.974</td>\n",
       "      <td>0.976</td>\n",
       "      <td>0.930</td>\n",
       "      <td>0.996</td>\n",
       "      <td>0.979</td>\n",
       "    </tr>\n",
       "    <tr>\n",
       "      <th>sand</th>\n",
       "      <td>0.905</td>\n",
       "      <td>0.615</td>\n",
       "      <td>0.927</td>\n",
       "      <td>0.978</td>\n",
       "      <td>0.911</td>\n",
       "      <td>0.980</td>\n",
       "      <td>0.970</td>\n",
       "      <td>0.935</td>\n",
       "      <td>0.994</td>\n",
       "      <td>0.978</td>\n",
       "    </tr>\n",
       "    <tr>\n",
       "      <th>street</th>\n",
       "      <td>0.929</td>\n",
       "      <td>0.790</td>\n",
       "      <td>0.976</td>\n",
       "      <td>0.979</td>\n",
       "      <td>0.920</td>\n",
       "      <td>0.938</td>\n",
       "      <td>0.928</td>\n",
       "      <td>0.986</td>\n",
       "      <td>0.938</td>\n",
       "      <td>0.968</td>\n",
       "    </tr>\n",
       "    <tr>\n",
       "      <th>snow</th>\n",
       "      <td>0.885</td>\n",
       "      <td>0.773</td>\n",
       "      <td>0.946</td>\n",
       "      <td>1.000</td>\n",
       "      <td>0.936</td>\n",
       "      <td>0.947</td>\n",
       "      <td>0.982</td>\n",
       "      <td>0.961</td>\n",
       "      <td>1.000</td>\n",
       "      <td>0.974</td>\n",
       "    </tr>\n",
       "    <tr>\n",
       "      <th>water</th>\n",
       "      <td>0.785</td>\n",
       "      <td>0.676</td>\n",
       "      <td>0.876</td>\n",
       "      <td>0.993</td>\n",
       "      <td>0.922</td>\n",
       "      <td>0.968</td>\n",
       "      <td>0.961</td>\n",
       "      <td>0.904</td>\n",
       "      <td>0.995</td>\n",
       "      <td>0.972</td>\n",
       "    </tr>\n",
       "    <tr>\n",
       "      <th>none</th>\n",
       "      <td>0.811</td>\n",
       "      <td>0.798</td>\n",
       "      <td>0.988</td>\n",
       "      <td>0.969</td>\n",
       "      <td>0.975</td>\n",
       "      <td>0.971</td>\n",
       "      <td>0.984</td>\n",
       "      <td>0.925</td>\n",
       "      <td>0.998</td>\n",
       "      <td>0.993</td>\n",
       "    </tr>\n",
       "  </tbody>\n",
       "</table>\n",
       "</div>"
      ],
      "text/plain": [
       "         truck    car  plane   ship    cat    dog  horse   deer   frog   bird\n",
       "forest   0.914  0.742  0.944  0.987  0.889  0.927  0.977  0.983  0.991  0.972\n",
       "grass    0.946  0.694  0.967  0.969  0.951  0.960  0.984  0.984  0.986  0.972\n",
       "indoors  0.784  0.865  0.975  1.000  0.981  0.981  0.987  0.667  0.946  0.902\n",
       "rocks    0.895  0.597  0.923  1.000  0.977  0.974  0.976  0.930  0.996  0.979\n",
       "sand     0.905  0.615  0.927  0.978  0.911  0.980  0.970  0.935  0.994  0.978\n",
       "street   0.929  0.790  0.976  0.979  0.920  0.938  0.928  0.986  0.938  0.968\n",
       "snow     0.885  0.773  0.946  1.000  0.936  0.947  0.982  0.961  1.000  0.974\n",
       "water    0.785  0.676  0.876  0.993  0.922  0.968  0.961  0.904  0.995  0.972\n",
       "none     0.811  0.798  0.988  0.969  0.975  0.971  0.984  0.925  0.998  0.993"
      ]
     },
     "execution_count": 59,
     "metadata": {},
     "output_type": "execute_result"
    }
   ],
   "source": [
    "pd.DataFrame(np.round(r_mat, 3), columns= bg.categories.keys(), index=bg.locations.keys())"
   ]
  },
  {
   "cell_type": "code",
   "execution_count": null,
   "id": "77e30f16",
   "metadata": {},
   "outputs": [],
   "source": [
    "(np.mean(np.array(r_mat[:-1,:].transpose()).flatten()[uncommon_locations_mask.flatten().astype(bool)]), np.mean(np.array(r_mat[:-1,:].transpose()).flatten()[~uncommon_locations_mask.flatten().astype(bool)]) )"
   ]
  },
  {
   "cell_type": "code",
   "execution_count": null,
   "id": "e270c827",
   "metadata": {},
   "outputs": [],
   "source": [
    "r_mat = np.matrix(np.zeros((len(bg.times), len(bg.categories))))\n",
    "l_mat = np.matrix(np.zeros((len(bg.times), len(bg.categories))))\n",
    "for lk, lv in bg.times.items():\n",
    "    for ck, cv in  bg.categories.items():\n",
    "        selected_hits = hits[torch.logical_and(time == lv, cv == labels)]\n",
    "        r_mat[lv, cv] = torch.sum(selected_hits)/len(selected_hits)\n",
    "        l_mat[lv, cv] = len(selected_hits)"
   ]
  },
  {
   "cell_type": "code",
   "execution_count": null,
   "id": "dba6274d",
   "metadata": {},
   "outputs": [],
   "source": [
    "pd.DataFrame(np.round(r_mat, 3), columns=bg.categories.keys(), index=bg.times.keys())"
   ]
  },
  {
   "cell_type": "code",
   "execution_count": null,
   "id": "85dcc21d",
   "metadata": {},
   "outputs": [],
   "source": [
    "(np.mean(np.array(r_mat[:-1,:].transpose()).flatten()[uncommon_time_mask.flatten().astype(bool)]), np.mean(np.array(r_mat[:-1,:].transpose()).flatten()[~uncommon_time_mask.flatten().astype(bool)]))"
   ]
  },
  {
   "cell_type": "code",
   "execution_count": null,
   "id": "79dd482d",
   "metadata": {},
   "outputs": [],
   "source": [
    "r_mat = np.matrix(np.zeros((len(bg.weathers), len(bg.categories))))\n",
    "l_mat = np.matrix(np.zeros((len(bg.weathers), len(bg.categories))))\n",
    "for lk, lv in bg.weathers.items():\n",
    "    for ck, cv in  bg.categories.items():\n",
    "        selected_hits = hits[torch.logical_and(weather == lv, cv == labels)]\n",
    "        r_mat[lv, cv] = torch.sum(selected_hits)/(len(selected_hits)+1e-6)\n",
    "        l_mat[lv, cv] = len(selected_hits)"
   ]
  },
  {
   "cell_type": "code",
   "execution_count": null,
   "id": "1b730536",
   "metadata": {},
   "outputs": [],
   "source": [
    "pd.DataFrame(np.round(r_mat, 3), columns=bg.categories.keys(), index=bg.weathers.keys())"
   ]
  },
  {
   "cell_type": "code",
   "execution_count": null,
   "id": "b28efc84",
   "metadata": {},
   "outputs": [],
   "source": [
    "(np.mean(np.array(r_mat[:-1,:].transpose()).flatten()[uncommon_weather_mask.flatten().astype(bool)]), np.mean(np.array(r_mat[:-1,:].transpose()).flatten()[~uncommon_weather_mask.flatten().astype(bool)]))"
   ]
  },
  {
   "cell_type": "code",
   "execution_count": null,
   "id": "13081fee",
   "metadata": {},
   "outputs": [],
   "source": [
    " np.corrcoef(r_mat.flatten(), l_mat.flatten())"
   ]
  },
  {
   "cell_type": "code",
   "execution_count": null,
   "id": "79a04135",
   "metadata": {},
   "outputs": [],
   "source": [
    "l_mat"
   ]
  },
  {
   "cell_type": "code",
   "execution_count": null,
   "id": "2dc1e188",
   "metadata": {},
   "outputs": [],
   "source": [
    "print(mutual_info_score(labels, weather), mutual_info_score(labels, random.sample(list(weather), len(weather))))"
   ]
  },
  {
   "cell_type": "code",
   "execution_count": null,
   "id": "67630df1",
   "metadata": {},
   "outputs": [],
   "source": [
    "print(mutual_info_score(labels, time), mutual_info_score(labels, random.sample(list(time), len(time))))"
   ]
  },
  {
   "cell_type": "code",
   "execution_count": null,
   "id": "f540b755",
   "metadata": {},
   "outputs": [],
   "source": []
  },
  {
   "cell_type": "code",
   "execution_count": null,
   "id": "9aefea39",
   "metadata": {},
   "outputs": [],
   "source": [
    "with open('./class_adv_success_rate_textprobe_per_class.pkl', 'rb') as fp:\n",
    "    class_accuracies = pickle.load(fp)\n",
    "with open('./all_text_probes_per_class.pkl', 'rb') as fp:\n",
    "    all_text_probes = pickle.load(fp)\n",
    "    \n",
    "raw_images = torchvision.datasets.ImageNet(\"/fs/classhomes/fall2021/cmsc828w/cs828w04/ILSVRC2012/\", split='val', transform=None)"
   ]
  },
  {
   "cell_type": "code",
   "execution_count": null,
   "id": "6298a328",
   "metadata": {},
   "outputs": [],
   "source": [
    "imagenet_classes = [\"tench\", \"goldfish\", \"great white shark\", \"tiger shark\", \"hammerhead shark\", \"electric ray\", \"stingray\", \"rooster\", \"hen\", \"ostrich\", \"brambling\", \"goldfinch\", \"house finch\", \"junco\", \"indigo bunting\", \"American robin\", \"bulbul\", \"jay\", \"magpie\", \"chickadee\", \"American dipper\", \"kite (bird of prey)\", \"bald eagle\", \"vulture\", \"great grey owl\", \"fire salamander\", \"smooth newt\", \"newt\", \"spotted salamander\", \"axolotl\", \"American bullfrog\", \"tree frog\", \"tailed frog\", \"loggerhead sea turtle\", \"leatherback sea turtle\", \"mud turtle\", \"terrapin\", \"box turtle\", \"banded gecko\", \"green iguana\", \"Carolina anole\", \"desert grassland whiptail lizard\", \"agama\", \"frilled-necked lizard\", \"alligator lizard\", \"Gila monster\", \"European green lizard\", \"chameleon\", \"Komodo dragon\", \"Nile crocodile\", \"American alligator\", \"triceratops\", \"worm snake\", \"ring-necked snake\", \"eastern hog-nosed snake\", \"smooth green snake\", \"kingsnake\", \"garter snake\", \"water snake\", \"vine snake\", \"night snake\", \"boa constrictor\", \"African rock python\", \"Indian cobra\", \"green mamba\", \"sea snake\", \"Saharan horned viper\", \"eastern diamondback rattlesnake\", \"sidewinder rattlesnake\", \"trilobite\", \"harvestman\", \"scorpion\", \"yellow garden spider\", \"barn spider\", \"European garden spider\", \"southern black widow\", \"tarantula\", \"wolf spider\", \"tick\", \"centipede\", \"black grouse\", \"ptarmigan\", \"ruffed grouse\", \"prairie grouse\", \"peafowl\", \"quail\", \"partridge\", \"african grey parrot\", \"macaw\", \"sulphur-crested cockatoo\", \"lorikeet\", \"coucal\", \"bee eater\", \"hornbill\", \"hummingbird\", \"jacamar\", \"toucan\", \"duck\", \"red-breasted merganser\", \"goose\", \"black swan\", \"tusker\", \"echidna\", \"platypus\", \"wallaby\", \"koala\", \"wombat\", \"jellyfish\", \"sea anemone\", \"brain coral\", \"flatworm\", \"nematode\", \"conch\", \"snail\", \"slug\", \"sea slug\", \"chiton\", \"chambered nautilus\", \"Dungeness crab\", \"rock crab\", \"fiddler crab\", \"red king crab\", \"American lobster\", \"spiny lobster\", \"crayfish\", \"hermit crab\", \"isopod\", \"white stork\", \"black stork\", \"spoonbill\", \"flamingo\", \"little blue heron\", \"great egret\", \"bittern bird\", \"crane bird\", \"limpkin\", \"common gallinule\", \"American coot\", \"bustard\", \"ruddy turnstone\", \"dunlin\", \"common redshank\", \"dowitcher\", \"oystercatcher\", \"pelican\", \"king penguin\", \"albatross\", \"grey whale\", \"killer whale\", \"dugong\", \"sea lion\", \"Chihuahua\", \"Japanese Chin\", \"Maltese\", \"Pekingese\", \"Shih Tzu\", \"King Charles Spaniel\", \"Papillon\", \"toy terrier\", \"Rhodesian Ridgeback\", \"Afghan Hound\", \"Basset Hound\", \"Beagle\", \"Bloodhound\", \"Bluetick Coonhound\", \"Black and Tan Coonhound\", \"Treeing Walker Coonhound\", \"English foxhound\", \"Redbone Coonhound\", \"borzoi\", \"Irish Wolfhound\", \"Italian Greyhound\", \"Whippet\", \"Ibizan Hound\", \"Norwegian Elkhound\", \"Otterhound\", \"Saluki\", \"Scottish Deerhound\", \"Weimaraner\", \"Staffordshire Bull Terrier\", \"American Staffordshire Terrier\", \"Bedlington Terrier\", \"Border Terrier\", \"Kerry Blue Terrier\", \"Irish Terrier\", \"Norfolk Terrier\", \"Norwich Terrier\", \"Yorkshire Terrier\", \"Wire Fox Terrier\", \"Lakeland Terrier\", \"Sealyham Terrier\", \"Airedale Terrier\", \"Cairn Terrier\", \"Australian Terrier\", \"Dandie Dinmont Terrier\", \"Boston Terrier\", \"Miniature Schnauzer\", \"Giant Schnauzer\", \"Standard Schnauzer\", \"Scottish Terrier\", \"Tibetan Terrier\", \"Australian Silky Terrier\", \"Soft-coated Wheaten Terrier\", \"West Highland White Terrier\", \"Lhasa Apso\", \"Flat-Coated Retriever\", \"Curly-coated Retriever\", \"Golden Retriever\", \"Labrador Retriever\", \"Chesapeake Bay Retriever\", \"German Shorthaired Pointer\", \"Vizsla\", \"English Setter\", \"Irish Setter\", \"Gordon Setter\", \"Brittany dog\", \"Clumber Spaniel\", \"English Springer Spaniel\", \"Welsh Springer Spaniel\", \"Cocker Spaniel\", \"Sussex Spaniel\", \"Irish Water Spaniel\", \"Kuvasz\", \"Schipperke\", \"Groenendael dog\", \"Malinois\", \"Briard\", \"Australian Kelpie\", \"Komondor\", \"Old English Sheepdog\", \"Shetland Sheepdog\", \"collie\", \"Border Collie\", \"Bouvier des Flandres dog\", \"Rottweiler\", \"German Shepherd Dog\", \"Dobermann\", \"Miniature Pinscher\", \"Greater Swiss Mountain Dog\", \"Bernese Mountain Dog\", \"Appenzeller Sennenhund\", \"Entlebucher Sennenhund\", \"Boxer\", \"Bullmastiff\", \"Tibetan Mastiff\", \"French Bulldog\", \"Great Dane\", \"St. Bernard\", \"husky\", \"Alaskan Malamute\", \"Siberian Husky\", \"Dalmatian\", \"Affenpinscher\", \"Basenji\", \"pug\", \"Leonberger\", \"Newfoundland dog\", \"Great Pyrenees dog\", \"Samoyed\", \"Pomeranian\", \"Chow Chow\", \"Keeshond\", \"brussels griffon\", \"Pembroke Welsh Corgi\", \"Cardigan Welsh Corgi\", \"Toy Poodle\", \"Miniature Poodle\", \"Standard Poodle\", \"Mexican hairless dog (xoloitzcuintli)\", \"grey wolf\", \"Alaskan tundra wolf\", \"red wolf or maned wolf\", \"coyote\", \"dingo\", \"dhole\", \"African wild dog\", \"hyena\", \"red fox\", \"kit fox\", \"Arctic fox\", \"grey fox\", \"tabby cat\", \"tiger cat\", \"Persian cat\", \"Siamese cat\", \"Egyptian Mau\", \"cougar\", \"lynx\", \"leopard\", \"snow leopard\", \"jaguar\", \"lion\", \"tiger\", \"cheetah\", \"brown bear\", \"American black bear\", \"polar bear\", \"sloth bear\", \"mongoose\", \"meerkat\", \"tiger beetle\", \"ladybug\", \"ground beetle\", \"longhorn beetle\", \"leaf beetle\", \"dung beetle\", \"rhinoceros beetle\", \"weevil\", \"fly\", \"bee\", \"ant\", \"grasshopper\", \"cricket insect\", \"stick insect\", \"cockroach\", \"praying mantis\", \"cicada\", \"leafhopper\", \"lacewing\", \"dragonfly\", \"damselfly\", \"red admiral butterfly\", \"ringlet butterfly\", \"monarch butterfly\", \"small white butterfly\", \"sulphur butterfly\", \"gossamer-winged butterfly\", \"starfish\", \"sea urchin\", \"sea cucumber\", \"cottontail rabbit\", \"hare\", \"Angora rabbit\", \"hamster\", \"porcupine\", \"fox squirrel\", \"marmot\", \"beaver\", \"guinea pig\", \"common sorrel horse\", \"zebra\", \"pig\", \"wild boar\", \"warthog\", \"hippopotamus\", \"ox\", \"water buffalo\", \"bison\", \"ram (adult male sheep)\", \"bighorn sheep\", \"Alpine ibex\", \"hartebeest\", \"impala (antelope)\", \"gazelle\", \"arabian camel\", \"llama\", \"weasel\", \"mink\", \"European polecat\", \"black-footed ferret\", \"otter\", \"skunk\", \"badger\", \"armadillo\", \"three-toed sloth\", \"orangutan\", \"gorilla\", \"chimpanzee\", \"gibbon\", \"siamang\", \"guenon\", \"patas monkey\", \"baboon\", \"macaque\", \"langur\", \"black-and-white colobus\", \"proboscis monkey\", \"marmoset\", \"white-headed capuchin\", \"howler monkey\", \"titi monkey\", \"Geoffroy's spider monkey\", \"common squirrel monkey\", \"ring-tailed lemur\", \"indri\", \"Asian elephant\", \"African bush elephant\", \"red panda\", \"giant panda\", \"snoek fish\", \"eel\", \"silver salmon\", \"rock beauty fish\", \"clownfish\", \"sturgeon\", \"gar fish\", \"lionfish\", \"pufferfish\", \"abacus\", \"abaya\", \"academic gown\", \"accordion\", \"acoustic guitar\", \"aircraft carrier\", \"airliner\", \"airship\", \"altar\", \"ambulance\", \"amphibious vehicle\", \"analog clock\", \"apiary\", \"apron\", \"trash can\", \"assault rifle\", \"backpack\", \"bakery\", \"balance beam\", \"balloon\", \"ballpoint pen\", \"Band-Aid\", \"banjo\", \"baluster / handrail\", \"barbell\", \"barber chair\", \"barbershop\", \"barn\", \"barometer\", \"barrel\", \"wheelbarrow\", \"baseball\", \"basketball\", \"bassinet\", \"bassoon\", \"swimming cap\", \"bath towel\", \"bathtub\", \"station wagon\", \"lighthouse\", \"beaker\", \"military hat (bearskin or shako)\", \"beer bottle\", \"beer glass\", \"bell tower\", \"baby bib\", \"tandem bicycle\", \"bikini\", \"ring binder\", \"binoculars\", \"birdhouse\", \"boathouse\", \"bobsleigh\", \"bolo tie\", \"poke bonnet\", \"bookcase\", \"bookstore\", \"bottle cap\", \"hunting bow\", \"bow tie\", \"brass memorial plaque\", \"bra\", \"breakwater\", \"breastplate\", \"broom\", \"bucket\", \"buckle\", \"bulletproof vest\", \"high-speed train\", \"butcher shop\", \"taxicab\", \"cauldron\", \"candle\", \"cannon\", \"canoe\", \"can opener\", \"cardigan\", \"car mirror\", \"carousel\", \"tool kit\", \"cardboard box / carton\", \"car wheel\", \"automated teller machine\", \"cassette\", \"cassette player\", \"castle\", \"catamaran\", \"CD player\", \"cello\", \"mobile phone\", \"chain\", \"chain-link fence\", \"chain mail\", \"chainsaw\", \"storage chest\", \"chiffonier\", \"bell or wind chime\", \"china cabinet\", \"Christmas stocking\", \"church\", \"movie theater\", \"cleaver\", \"cliff dwelling\", \"cloak\", \"clogs\", \"cocktail shaker\", \"coffee mug\", \"coffeemaker\", \"spiral or coil\", \"combination lock\", \"computer keyboard\", \"candy store\", \"container ship\", \"convertible\", \"corkscrew\", \"cornet\", \"cowboy boot\", \"cowboy hat\", \"cradle\", \"construction crane\", \"crash helmet\", \"crate\", \"infant bed\", \"Crock Pot\", \"croquet ball\", \"crutch\", \"cuirass\", \"dam\", \"desk\", \"desktop computer\", \"rotary dial telephone\", \"diaper\", \"digital clock\", \"digital watch\", \"dining table\", \"dishcloth\", \"dishwasher\", \"disc brake\", \"dock\", \"dog sled\", \"dome\", \"doormat\", \"drilling rig\", \"drum\", \"drumstick\", \"dumbbell\", \"Dutch oven\", \"electric fan\", \"electric guitar\", \"electric locomotive\", \"entertainment center\", \"envelope\", \"espresso machine\", \"face powder\", \"feather boa\", \"filing cabinet\", \"fireboat\", \"fire truck\", \"fire screen\", \"flagpole\", \"flute\", \"folding chair\", \"football helmet\", \"forklift\", \"fountain\", \"fountain pen\", \"four-poster bed\", \"freight car\", \"French horn\", \"frying pan\", \"fur coat\", \"garbage truck\", \"gas mask or respirator\", \"gas pump\", \"goblet\", \"go-kart\", \"golf ball\", \"golf cart\", \"gondola\", \"gong\", \"gown\", \"grand piano\", \"greenhouse\", \"radiator grille\", \"grocery store\", \"guillotine\", \"hair clip\", \"hair spray\", \"half-track\", \"hammer\", \"hamper\", \"hair dryer\", \"hand-held computer\", \"handkerchief\", \"hard disk drive\", \"harmonica\", \"harp\", \"combine harvester\", \"hatchet\", \"holster\", \"home theater\", \"honeycomb\", \"hook\", \"hoop skirt\", \"gymnastic horizontal bar\", \"horse-drawn vehicle\", \"hourglass\", \"iPod\", \"clothes iron\", \"carved pumpkin\", \"jeans\", \"jeep\", \"T-shirt\", \"jigsaw puzzle\", \"rickshaw\", \"joystick\", \"kimono\", \"knee pad\", \"knot\", \"lab coat\", \"ladle\", \"lampshade\", \"laptop computer\", \"lawn mower\", \"lens cap\", \"letter opener\", \"library\", \"lifeboat\", \"lighter\", \"limousine\", \"ocean liner\", \"lipstick\", \"slip-on shoe\", \"lotion\", \"music speaker\", \"loupe magnifying glass\", \"sawmill\", \"magnetic compass\", \"messenger bag\", \"mailbox\", \"tights\", \"one-piece bathing suit\", \"manhole cover\", \"maraca\", \"marimba\", \"mask\", \"matchstick\", \"maypole\", \"maze\", \"measuring cup\", \"medicine cabinet\", \"megalith\", \"microphone\", \"microwave oven\", \"military uniform\", \"milk can\", \"minibus\", \"miniskirt\", \"minivan\", \"missile\", \"mitten\", \"mixing bowl\", \"mobile home\", \"ford model t\", \"modem\", \"monastery\", \"monitor\", \"moped\", \"mortar and pestle\", \"graduation cap\", \"mosque\", \"mosquito net\", \"vespa\", \"mountain bike\", \"tent\", \"computer mouse\", \"mousetrap\", \"moving van\", \"muzzle\", \"metal nail\", \"neck brace\", \"necklace\", \"baby pacifier\", \"notebook computer\", \"obelisk\", \"oboe\", \"ocarina\", \"odometer\", \"oil filter\", \"pipe organ\", \"oscilloscope\", \"overskirt\", \"bullock cart\", \"oxygen mask\", \"product packet / packaging\", \"paddle\", \"paddle wheel\", \"padlock\", \"paintbrush\", \"pajamas\", \"palace\", \"pan flute\", \"paper towel\", \"parachute\", \"parallel bars\", \"park bench\", \"parking meter\", \"railroad car\", \"patio\", \"payphone\", \"pedestal\", \"pencil case\", \"pencil sharpener\", \"perfume\", \"Petri dish\", \"photocopier\", \"plectrum\", \"Pickelhaube\", \"picket fence\", \"pickup truck\", \"pier\", \"piggy bank\", \"pill bottle\", \"pillow\", \"ping-pong ball\", \"pinwheel\", \"pirate ship\", \"drink pitcher\", \"block plane\", \"planetarium\", \"plastic bag\", \"plate rack\", \"farm plow\", \"plunger\", \"Polaroid camera\", \"pole\", \"police van\", \"poncho\", \"pool table\", \"soda bottle\", \"plant pot\", \"potter's wheel\", \"power drill\", \"prayer rug\", \"printer\", \"prison\", \"missile\", \"projector\", \"hockey puck\", \"punching bag\", \"purse\", \"quill\", \"quilt\", \"race car\", \"racket\", \"radiator\", \"radio\", \"radio telescope\", \"rain barrel\", \"recreational vehicle\", \"fishing casting reel\", \"reflex camera\", \"refrigerator\", \"remote control\", \"restaurant\", \"revolver\", \"rifle\", \"rocking chair\", \"rotisserie\", \"eraser\", \"rugby ball\", \"ruler measuring stick\", \"sneaker\", \"safe\", \"safety pin\", \"salt shaker\", \"sandal\", \"sarong\", \"saxophone\", \"scabbard\", \"weighing scale\", \"school bus\", \"schooner\", \"scoreboard\", \"CRT monitor\", \"screw\", \"screwdriver\", \"seat belt\", \"sewing machine\", \"shield\", \"shoe store\", \"shoji screen / room divider\", \"shopping basket\", \"shopping cart\", \"shovel\", \"shower cap\", \"shower curtain\", \"ski\", \"balaclava ski mask\", \"sleeping bag\", \"slide rule\", \"sliding door\", \"slot machine\", \"snorkel\", \"snowmobile\", \"snowplow\", \"soap dispenser\", \"soccer ball\", \"sock\", \"solar thermal collector\", \"sombrero\", \"soup bowl\", \"keyboard space bar\", \"space heater\", \"space shuttle\", \"spatula\", \"motorboat\", \"spider web\", \"spindle\", \"sports car\", \"spotlight\", \"stage\", \"steam locomotive\", \"through arch bridge\", \"steel drum\", \"stethoscope\", \"scarf\", \"stone wall\", \"stopwatch\", \"stove\", \"strainer\", \"tram\", \"stretcher\", \"couch\", \"stupa\", \"submarine\", \"suit\", \"sundial\", \"sunglasses\", \"sunglasses\", \"sunscreen\", \"suspension bridge\", \"mop\", \"sweatshirt\", \"swim trunks / shorts\", \"swing\", \"electrical switch\", \"syringe\", \"table lamp\", \"tank\", \"tape player\", \"teapot\", \"teddy bear\", \"television\", \"tennis ball\", \"thatched roof\", \"front curtain\", \"thimble\", \"threshing machine\", \"throne\", \"tile roof\", \"toaster\", \"tobacco shop\", \"toilet seat\", \"torch\", \"totem pole\", \"tow truck\", \"toy store\", \"tractor\", \"semi-trailer truck\", \"tray\", \"trench coat\", \"tricycle\", \"trimaran\", \"tripod\", \"triumphal arch\", \"trolleybus\", \"trombone\", \"hot tub\", \"turnstile\", \"typewriter keyboard\", \"umbrella\", \"unicycle\", \"upright piano\", \"vacuum cleaner\", \"vase\", \"vaulted or arched ceiling\", \"velvet fabric\", \"vending machine\", \"vestment\", \"viaduct\", \"violin\", \"volleyball\", \"waffle iron\", \"wall clock\", \"wallet\", \"wardrobe\", \"military aircraft\", \"sink\", \"washing machine\", \"water bottle\", \"water jug\", \"water tower\", \"whiskey jug\", \"whistle\", \"hair wig\", \"window screen\", \"window shade\", \"Windsor tie\", \"wine bottle\", \"airplane wing\", \"wok\", \"wooden spoon\", \"wool\", \"split-rail fence\", \"shipwreck\", \"sailboat\", \"yurt\", \"website\", \"comic book\", \"crossword\", \"traffic or street sign\", \"traffic light\", \"dust jacket\", \"menu\", \"plate\", \"guacamole\", \"consomme\", \"hot pot\", \"trifle\", \"ice cream\", \"popsicle\", \"baguette\", \"bagel\", \"pretzel\", \"cheeseburger\", \"hot dog\", \"mashed potatoes\", \"cabbage\", \"broccoli\", \"cauliflower\", \"zucchini\", \"spaghetti squash\", \"acorn squash\", \"butternut squash\", \"cucumber\", \"artichoke\", \"bell pepper\", \"cardoon\", \"mushroom\", \"Granny Smith apple\", \"strawberry\", \"orange\", \"lemon\", \"fig\", \"pineapple\", \"banana\", \"jackfruit\", \"cherimoya (custard apple)\", \"pomegranate\", \"hay\", \"carbonara\", \"chocolate syrup\", \"dough\", \"meatloaf\", \"pizza\", \"pot pie\", \"burrito\", \"red wine\", \"espresso\", \"tea cup\", \"eggnog\", \"mountain\", \"bubble\", \"cliff\", \"coral reef\", \"geyser\", \"lakeshore\", \"promontory\", \"sandbar\", \"beach\", \"valley\", \"volcano\", \"baseball player\", \"bridegroom\", \"scuba diver\", \"rapeseed\", \"daisy\", \"yellow lady's slipper\", \"corn\", \"acorn\", \"rose hip\", \"horse chestnut seed\", \"coral fungus\", \"agaric\", \"gyromitra\", \"stinkhorn mushroom\", \"earth star fungus\", \"hen of the woods mushroom\", \"bolete\", \"corn cob\", \"toilet paper\"]"
   ]
  },
  {
   "cell_type": "code",
   "execution_count": null,
   "id": "7f8f75fe",
   "metadata": {},
   "outputs": [],
   "source": [
    "ind = 205"
   ]
  },
  {
   "cell_type": "code",
   "execution_count": null,
   "id": "55eadecb",
   "metadata": {},
   "outputs": [],
   "source": [
    "imagenet_classes[ind//50]"
   ]
  },
  {
   "cell_type": "code",
   "execution_count": null,
   "id": "8482c8db",
   "metadata": {},
   "outputs": [],
   "source": [
    "class_accuracies[ind//50]"
   ]
  },
  {
   "cell_type": "code",
   "execution_count": null,
   "id": "c5f36afb",
   "metadata": {},
   "outputs": [],
   "source": [
    "# all_text_probes = dict([(x, (y, z)) for x , y, z in all_text_probes])\n",
    "all_text_probes[ind]"
   ]
  },
  {
   "cell_type": "code",
   "execution_count": null,
   "id": "c44ef9d3",
   "metadata": {},
   "outputs": [],
   "source": [
    "plt.imshow(raw_images.__getitem__(ind)[0], interpolation='nearest')\n",
    "plt.show()"
   ]
  },
  {
   "cell_type": "code",
   "execution_count": null,
   "id": "a7f770d8",
   "metadata": {},
   "outputs": [],
   "source": []
  },
  {
   "cell_type": "code",
   "execution_count": null,
   "id": "27bb760c",
   "metadata": {},
   "outputs": [],
   "source": [
    "plt.hist(class_accuracies)\n",
    "plt.xlabel('Success rate in changing label per class')\n",
    "plt.ylabel('Frequency')\n",
    "plt.show()"
   ]
  },
  {
   "cell_type": "markdown",
   "id": "07a4234f",
   "metadata": {},
   "source": [
    "Car class has very poor accuracy"
   ]
  }
 ],
 "metadata": {
  "kernelspec": {
   "display_name": "Python 3",
   "language": "python",
   "name": "python3"
  },
  "language_info": {
   "codemirror_mode": {
    "name": "ipython",
    "version": 3
   },
   "file_extension": ".py",
   "mimetype": "text/x-python",
   "name": "python",
   "nbconvert_exporter": "python",
   "pygments_lexer": "ipython3",
   "version": "3.8.8"
  }
 },
 "nbformat": 4,
 "nbformat_minor": 5
}
